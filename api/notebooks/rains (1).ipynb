{
  "cells": [
    {
      "cell_type": "code",
      "execution_count": null,
      "metadata": {
        "_cell_guid": "b1076dfc-b9ad-4769-8c92-a6c4dae69d19",
        "_uuid": "8f2839f25d086af736a60e9eeb907d3b93b6e0e5",
        "execution": {
          "iopub.execute_input": "2022-04-13T09:28:07.000983Z",
          "iopub.status.busy": "2022-04-13T09:28:07.000531Z",
          "iopub.status.idle": "2022-04-13T09:28:07.010272Z",
          "shell.execute_reply": "2022-04-13T09:28:07.009537Z",
          "shell.execute_reply.started": "2022-04-13T09:28:07.000949Z"
        },
        "id": "JYhMBF4Jnb51",
        "trusted": true
      },
      "outputs": [],
      "source": [
        "import numpy as np  \n",
        "import pandas as pd \n",
        "import matplotlib.pyplot as plt\n",
        "\n",
        "from datetime import datetime, timedelta\n",
        "\n",
        "from sklearn import preprocessing\n",
        "from sklearn.model_selection import train_test_split, cross_val_score, cross_validate\n",
        "from sklearn.metrics import mean_squared_error\n",
        "\n",
        "import os\n",
        "for dirname, _, filenames in os.walk('/kaggle/input'):\n",
        "    for filename in filenames:\n",
        "        print(os.path.join(dirname, filename))"
      ]
    },
    {
      "cell_type": "markdown",
      "metadata": {
        "execution": {
          "iopub.execute_input": "2022-04-13T09:12:05.715706Z",
          "iopub.status.busy": "2022-04-13T09:12:05.715326Z",
          "iopub.status.idle": "2022-04-13T09:12:05.745089Z",
          "shell.execute_reply": "2022-04-13T09:12:05.743433Z",
          "shell.execute_reply.started": "2022-04-13T09:12:05.715616Z"
        },
        "id": "2KKywMjHnb55"
      },
      "source": [
        "# Data loading"
      ]
    },
    {
      "cell_type": "code",
      "execution_count": null,
      "metadata": {
        "colab": {
          "base_uri": "https://localhost:8080/",
          "height": 386
        },
        "execution": {
          "iopub.execute_input": "2022-04-13T09:28:07.042321Z",
          "iopub.status.busy": "2022-04-13T09:28:07.04143Z",
          "iopub.status.idle": "2022-04-13T09:28:07.223114Z",
          "shell.execute_reply": "2022-04-13T09:28:07.222095Z",
          "shell.execute_reply.started": "2022-04-13T09:28:07.042268Z"
        },
        "id": "FzZSvjsmnb56",
        "outputId": "7037517e-c0d9-4a9a-d264-135d2aa59568",
        "trusted": true
      },
      "outputs": [
        {
          "data": {
            "text/html": [
              "\n",
              "  <div id=\"df-3cdf54de-c131-4368-8131-2ad7ed307623\">\n",
              "    <div class=\"colab-df-container\">\n",
              "      <div>\n",
              "<style scoped>\n",
              "    .dataframe tbody tr th:only-of-type {\n",
              "        vertical-align: middle;\n",
              "    }\n",
              "\n",
              "    .dataframe tbody tr th {\n",
              "        vertical-align: top;\n",
              "    }\n",
              "\n",
              "    .dataframe thead th {\n",
              "        text-align: right;\n",
              "    }\n",
              "</style>\n",
              "<table border=\"1\" class=\"dataframe\">\n",
              "  <thead>\n",
              "    <tr style=\"text-align: right;\">\n",
              "      <th></th>\n",
              "      <th>Date</th>\n",
              "      <th>Location</th>\n",
              "      <th>MinTemp</th>\n",
              "      <th>MaxTemp</th>\n",
              "      <th>Rainfall</th>\n",
              "      <th>Evaporation</th>\n",
              "      <th>Sunshine</th>\n",
              "      <th>WindGustDir</th>\n",
              "      <th>WindGustSpeed</th>\n",
              "      <th>WindDir9am</th>\n",
              "      <th>...</th>\n",
              "      <th>Humidity9am</th>\n",
              "      <th>Humidity3pm</th>\n",
              "      <th>Pressure9am</th>\n",
              "      <th>Pressure3pm</th>\n",
              "      <th>Cloud9am</th>\n",
              "      <th>Cloud3pm</th>\n",
              "      <th>Temp9am</th>\n",
              "      <th>Temp3pm</th>\n",
              "      <th>RainToday</th>\n",
              "      <th>RainTomorrow</th>\n",
              "    </tr>\n",
              "  </thead>\n",
              "  <tbody>\n",
              "    <tr>\n",
              "      <th>6383</th>\n",
              "      <td>2007-11-01</td>\n",
              "      <td>Canberra</td>\n",
              "      <td>8.0</td>\n",
              "      <td>24.3</td>\n",
              "      <td>0.0</td>\n",
              "      <td>3.4</td>\n",
              "      <td>6.3</td>\n",
              "      <td>NW</td>\n",
              "      <td>30.0</td>\n",
              "      <td>SW</td>\n",
              "      <td>...</td>\n",
              "      <td>68.0</td>\n",
              "      <td>29.0</td>\n",
              "      <td>1019.7</td>\n",
              "      <td>1015.0</td>\n",
              "      <td>7.0</td>\n",
              "      <td>7.0</td>\n",
              "      <td>14.4</td>\n",
              "      <td>23.6</td>\n",
              "      <td>No</td>\n",
              "      <td>Yes</td>\n",
              "    </tr>\n",
              "    <tr>\n",
              "      <th>6384</th>\n",
              "      <td>2007-11-02</td>\n",
              "      <td>Canberra</td>\n",
              "      <td>14.0</td>\n",
              "      <td>26.9</td>\n",
              "      <td>3.6</td>\n",
              "      <td>4.4</td>\n",
              "      <td>9.7</td>\n",
              "      <td>ENE</td>\n",
              "      <td>39.0</td>\n",
              "      <td>E</td>\n",
              "      <td>...</td>\n",
              "      <td>80.0</td>\n",
              "      <td>36.0</td>\n",
              "      <td>1012.4</td>\n",
              "      <td>1008.4</td>\n",
              "      <td>5.0</td>\n",
              "      <td>3.0</td>\n",
              "      <td>17.5</td>\n",
              "      <td>25.7</td>\n",
              "      <td>Yes</td>\n",
              "      <td>Yes</td>\n",
              "    </tr>\n",
              "    <tr>\n",
              "      <th>6385</th>\n",
              "      <td>2007-11-03</td>\n",
              "      <td>Canberra</td>\n",
              "      <td>13.7</td>\n",
              "      <td>23.4</td>\n",
              "      <td>3.6</td>\n",
              "      <td>5.8</td>\n",
              "      <td>3.3</td>\n",
              "      <td>NW</td>\n",
              "      <td>85.0</td>\n",
              "      <td>N</td>\n",
              "      <td>...</td>\n",
              "      <td>82.0</td>\n",
              "      <td>69.0</td>\n",
              "      <td>1009.5</td>\n",
              "      <td>1007.2</td>\n",
              "      <td>8.0</td>\n",
              "      <td>7.0</td>\n",
              "      <td>15.4</td>\n",
              "      <td>20.2</td>\n",
              "      <td>Yes</td>\n",
              "      <td>Yes</td>\n",
              "    </tr>\n",
              "    <tr>\n",
              "      <th>6386</th>\n",
              "      <td>2007-11-04</td>\n",
              "      <td>Canberra</td>\n",
              "      <td>13.3</td>\n",
              "      <td>15.5</td>\n",
              "      <td>39.8</td>\n",
              "      <td>7.2</td>\n",
              "      <td>9.1</td>\n",
              "      <td>NW</td>\n",
              "      <td>54.0</td>\n",
              "      <td>WNW</td>\n",
              "      <td>...</td>\n",
              "      <td>62.0</td>\n",
              "      <td>56.0</td>\n",
              "      <td>1005.5</td>\n",
              "      <td>1007.0</td>\n",
              "      <td>2.0</td>\n",
              "      <td>7.0</td>\n",
              "      <td>13.5</td>\n",
              "      <td>14.1</td>\n",
              "      <td>Yes</td>\n",
              "      <td>Yes</td>\n",
              "    </tr>\n",
              "    <tr>\n",
              "      <th>6387</th>\n",
              "      <td>2007-11-05</td>\n",
              "      <td>Canberra</td>\n",
              "      <td>7.6</td>\n",
              "      <td>16.1</td>\n",
              "      <td>2.8</td>\n",
              "      <td>5.6</td>\n",
              "      <td>10.6</td>\n",
              "      <td>SSE</td>\n",
              "      <td>50.0</td>\n",
              "      <td>SSE</td>\n",
              "      <td>...</td>\n",
              "      <td>68.0</td>\n",
              "      <td>49.0</td>\n",
              "      <td>1018.3</td>\n",
              "      <td>1018.5</td>\n",
              "      <td>7.0</td>\n",
              "      <td>7.0</td>\n",
              "      <td>11.1</td>\n",
              "      <td>15.4</td>\n",
              "      <td>Yes</td>\n",
              "      <td>No</td>\n",
              "    </tr>\n",
              "  </tbody>\n",
              "</table>\n",
              "<p>5 rows × 23 columns</p>\n",
              "</div>\n",
              "      <button class=\"colab-df-convert\" onclick=\"convertToInteractive('df-3cdf54de-c131-4368-8131-2ad7ed307623')\"\n",
              "              title=\"Convert this dataframe to an interactive table.\"\n",
              "              style=\"display:none;\">\n",
              "        \n",
              "  <svg xmlns=\"http://www.w3.org/2000/svg\" height=\"24px\"viewBox=\"0 0 24 24\"\n",
              "       width=\"24px\">\n",
              "    <path d=\"M0 0h24v24H0V0z\" fill=\"none\"/>\n",
              "    <path d=\"M18.56 5.44l.94 2.06.94-2.06 2.06-.94-2.06-.94-.94-2.06-.94 2.06-2.06.94zm-11 1L8.5 8.5l.94-2.06 2.06-.94-2.06-.94L8.5 2.5l-.94 2.06-2.06.94zm10 10l.94 2.06.94-2.06 2.06-.94-2.06-.94-.94-2.06-.94 2.06-2.06.94z\"/><path d=\"M17.41 7.96l-1.37-1.37c-.4-.4-.92-.59-1.43-.59-.52 0-1.04.2-1.43.59L10.3 9.45l-7.72 7.72c-.78.78-.78 2.05 0 2.83L4 21.41c.39.39.9.59 1.41.59.51 0 1.02-.2 1.41-.59l7.78-7.78 2.81-2.81c.8-.78.8-2.07 0-2.86zM5.41 20L4 18.59l7.72-7.72 1.47 1.35L5.41 20z\"/>\n",
              "  </svg>\n",
              "      </button>\n",
              "      \n",
              "  <style>\n",
              "    .colab-df-container {\n",
              "      display:flex;\n",
              "      flex-wrap:wrap;\n",
              "      gap: 12px;\n",
              "    }\n",
              "\n",
              "    .colab-df-convert {\n",
              "      background-color: #E8F0FE;\n",
              "      border: none;\n",
              "      border-radius: 50%;\n",
              "      cursor: pointer;\n",
              "      display: none;\n",
              "      fill: #1967D2;\n",
              "      height: 32px;\n",
              "      padding: 0 0 0 0;\n",
              "      width: 32px;\n",
              "    }\n",
              "\n",
              "    .colab-df-convert:hover {\n",
              "      background-color: #E2EBFA;\n",
              "      box-shadow: 0px 1px 2px rgba(60, 64, 67, 0.3), 0px 1px 3px 1px rgba(60, 64, 67, 0.15);\n",
              "      fill: #174EA6;\n",
              "    }\n",
              "\n",
              "    [theme=dark] .colab-df-convert {\n",
              "      background-color: #3B4455;\n",
              "      fill: #D2E3FC;\n",
              "    }\n",
              "\n",
              "    [theme=dark] .colab-df-convert:hover {\n",
              "      background-color: #434B5C;\n",
              "      box-shadow: 0px 1px 3px 1px rgba(0, 0, 0, 0.15);\n",
              "      filter: drop-shadow(0px 1px 2px rgba(0, 0, 0, 0.3));\n",
              "      fill: #FFFFFF;\n",
              "    }\n",
              "  </style>\n",
              "\n",
              "      <script>\n",
              "        const buttonEl =\n",
              "          document.querySelector('#df-3cdf54de-c131-4368-8131-2ad7ed307623 button.colab-df-convert');\n",
              "        buttonEl.style.display =\n",
              "          google.colab.kernel.accessAllowed ? 'block' : 'none';\n",
              "\n",
              "        async function convertToInteractive(key) {\n",
              "          const element = document.querySelector('#df-3cdf54de-c131-4368-8131-2ad7ed307623');\n",
              "          const dataTable =\n",
              "            await google.colab.kernel.invokeFunction('convertToInteractive',\n",
              "                                                     [key], {});\n",
              "          if (!dataTable) return;\n",
              "\n",
              "          const docLinkHtml = 'Like what you see? Visit the ' +\n",
              "            '<a target=\"_blank\" href=https://colab.research.google.com/notebooks/data_table.ipynb>data table notebook</a>'\n",
              "            + ' to learn more about interactive tables.';\n",
              "          element.innerHTML = '';\n",
              "          dataTable['output_type'] = 'display_data';\n",
              "          await google.colab.output.renderOutput(dataTable, element);\n",
              "          const docLink = document.createElement('div');\n",
              "          docLink.innerHTML = docLinkHtml;\n",
              "          element.appendChild(docLink);\n",
              "        }\n",
              "      </script>\n",
              "    </div>\n",
              "  </div>\n",
              "  "
            ],
            "text/plain": [
              "            Date  Location  MinTemp  MaxTemp  Rainfall  Evaporation  Sunshine  \\\n",
              "6383  2007-11-01  Canberra      8.0     24.3       0.0          3.4       6.3   \n",
              "6384  2007-11-02  Canberra     14.0     26.9       3.6          4.4       9.7   \n",
              "6385  2007-11-03  Canberra     13.7     23.4       3.6          5.8       3.3   \n",
              "6386  2007-11-04  Canberra     13.3     15.5      39.8          7.2       9.1   \n",
              "6387  2007-11-05  Canberra      7.6     16.1       2.8          5.6      10.6   \n",
              "\n",
              "     WindGustDir  WindGustSpeed WindDir9am  ... Humidity9am  Humidity3pm  \\\n",
              "6383          NW           30.0         SW  ...        68.0         29.0   \n",
              "6384         ENE           39.0          E  ...        80.0         36.0   \n",
              "6385          NW           85.0          N  ...        82.0         69.0   \n",
              "6386          NW           54.0        WNW  ...        62.0         56.0   \n",
              "6387         SSE           50.0        SSE  ...        68.0         49.0   \n",
              "\n",
              "      Pressure9am  Pressure3pm  Cloud9am  Cloud3pm  Temp9am  Temp3pm  \\\n",
              "6383       1019.7       1015.0       7.0       7.0     14.4     23.6   \n",
              "6384       1012.4       1008.4       5.0       3.0     17.5     25.7   \n",
              "6385       1009.5       1007.2       8.0       7.0     15.4     20.2   \n",
              "6386       1005.5       1007.0       2.0       7.0     13.5     14.1   \n",
              "6387       1018.3       1018.5       7.0       7.0     11.1     15.4   \n",
              "\n",
              "      RainToday  RainTomorrow  \n",
              "6383         No           Yes  \n",
              "6384        Yes           Yes  \n",
              "6385        Yes           Yes  \n",
              "6386        Yes           Yes  \n",
              "6387        Yes            No  \n",
              "\n",
              "[5 rows x 23 columns]"
            ]
          },
          "execution_count": 4,
          "metadata": {},
          "output_type": "execute_result"
        }
      ],
      "source": [
        "#data = pd.read_csv('rains.csv', index_col =0)\n",
        "data = pd.read_csv('rains.csv')\n",
        "data = data.sort_values(by='Date',ascending = True)\n",
        "data.head()"
      ]
    },
    {
      "cell_type": "code",
      "execution_count": null,
      "metadata": {
        "colab": {
          "base_uri": "https://localhost:8080/",
          "height": 35
        },
        "id": "ujreOY55nb57",
        "outputId": "2c1ba340-3bc2-4132-b5ff-7118eb80be03"
      },
      "outputs": [
        {
          "data": {
            "application/vnd.google.colaboratory.intrinsic+json": {
              "type": "string"
            },
            "text/plain": [
              "'2007-11-01'"
            ]
          },
          "execution_count": 5,
          "metadata": {},
          "output_type": "execute_result"
        }
      ],
      "source": [
        "data.Date.min()"
      ]
    },
    {
      "cell_type": "code",
      "execution_count": null,
      "metadata": {
        "colab": {
          "base_uri": "https://localhost:8080/",
          "height": 35
        },
        "id": "eMadC7cUnb57",
        "outputId": "f66241ad-c3e6-4e67-a757-8badc873a114"
      },
      "outputs": [
        {
          "data": {
            "application/vnd.google.colaboratory.intrinsic+json": {
              "type": "string"
            },
            "text/plain": [
              "'2017-06-25'"
            ]
          },
          "execution_count": 6,
          "metadata": {},
          "output_type": "execute_result"
        }
      ],
      "source": [
        "data.Date.max()"
      ]
    },
    {
      "cell_type": "markdown",
      "metadata": {
        "execution": {
          "iopub.execute_input": "2022-04-13T09:12:05.715706Z",
          "iopub.status.busy": "2022-04-13T09:12:05.715326Z",
          "iopub.status.idle": "2022-04-13T09:12:05.745089Z",
          "shell.execute_reply": "2022-04-13T09:12:05.743433Z",
          "shell.execute_reply.started": "2022-04-13T09:12:05.715616Z"
        },
        "id": "sowiGYe_nb58"
      },
      "source": [
        "# Data pre-processing"
      ]
    },
    {
      "cell_type": "markdown",
      "metadata": {
        "id": "WnhWja-fnb58"
      },
      "source": [
        "data exploration"
      ]
    },
    {
      "cell_type": "code",
      "execution_count": null,
      "metadata": {
        "colab": {
          "base_uri": "https://localhost:8080/"
        },
        "execution": {
          "iopub.execute_input": "2022-04-13T09:28:07.226274Z",
          "iopub.status.busy": "2022-04-13T09:28:07.225407Z",
          "iopub.status.idle": "2022-04-13T09:28:07.263318Z",
          "shell.execute_reply": "2022-04-13T09:28:07.262194Z",
          "shell.execute_reply.started": "2022-04-13T09:28:07.226223Z"
        },
        "id": "ttCP6KG1nb59",
        "outputId": "dee9d52a-0a50-47fa-9137-d363e99c810a",
        "trusted": true
      },
      "outputs": [
        {
          "name": "stdout",
          "output_type": "stream",
          "text": [
            "<class 'pandas.core.frame.DataFrame'>\n",
            "Int64Index: 25631 entries, 6383 to 25630\n",
            "Data columns (total 23 columns):\n",
            " #   Column         Non-Null Count  Dtype  \n",
            "---  ------         --------------  -----  \n",
            " 0   Date           25631 non-null  object \n",
            " 1   Location       25631 non-null  object \n",
            " 2   MinTemp        24781 non-null  float64\n",
            " 3   MaxTemp        24885 non-null  float64\n",
            " 4   Rainfall       24570 non-null  float64\n",
            " 5   Evaporation    16385 non-null  float64\n",
            " 6   Sunshine       16142 non-null  float64\n",
            " 7   WindGustDir    21009 non-null  object \n",
            " 8   WindGustSpeed  21011 non-null  float64\n",
            " 9   WindDir9am     23020 non-null  object \n",
            " 10  WindDir3pm     23947 non-null  object \n",
            " 11  WindSpeed9am   25073 non-null  float64\n",
            " 12  WindSpeed3pm   24389 non-null  float64\n",
            " 13  Humidity9am    24800 non-null  float64\n",
            " 14  Humidity3pm    24141 non-null  float64\n",
            " 15  Pressure9am    21854 non-null  float64\n",
            " 16  Pressure3pm    21852 non-null  float64\n",
            " 17  Cloud9am       16480 non-null  float64\n",
            " 18  Cloud3pm       15527 non-null  float64\n",
            " 19  Temp9am        24883 non-null  float64\n",
            " 20  Temp3pm        24183 non-null  float64\n",
            " 21  RainToday      24570 non-null  object \n",
            " 22  RainTomorrow   24569 non-null  object \n",
            "dtypes: float64(16), object(7)\n",
            "memory usage: 4.7+ MB\n"
          ]
        }
      ],
      "source": [
        "data.info()"
      ]
    },
    {
      "cell_type": "code",
      "execution_count": null,
      "metadata": {
        "colab": {
          "base_uri": "https://localhost:8080/",
          "height": 364
        },
        "execution": {
          "iopub.execute_input": "2022-04-13T09:28:07.265654Z",
          "iopub.status.busy": "2022-04-13T09:28:07.264942Z",
          "iopub.status.idle": "2022-04-13T09:28:07.3546Z",
          "shell.execute_reply": "2022-04-13T09:28:07.353557Z",
          "shell.execute_reply.started": "2022-04-13T09:28:07.265615Z"
        },
        "id": "xQW5JuUNnb59",
        "outputId": "4973f405-b0ed-4d8d-b75e-b4200d098355",
        "trusted": true
      },
      "outputs": [
        {
          "data": {
            "text/html": [
              "\n",
              "  <div id=\"df-b04baac6-d97d-41d0-a487-022fdc2b66fb\">\n",
              "    <div class=\"colab-df-container\">\n",
              "      <div>\n",
              "<style scoped>\n",
              "    .dataframe tbody tr th:only-of-type {\n",
              "        vertical-align: middle;\n",
              "    }\n",
              "\n",
              "    .dataframe tbody tr th {\n",
              "        vertical-align: top;\n",
              "    }\n",
              "\n",
              "    .dataframe thead th {\n",
              "        text-align: right;\n",
              "    }\n",
              "</style>\n",
              "<table border=\"1\" class=\"dataframe\">\n",
              "  <thead>\n",
              "    <tr style=\"text-align: right;\">\n",
              "      <th></th>\n",
              "      <th>MinTemp</th>\n",
              "      <th>MaxTemp</th>\n",
              "      <th>Rainfall</th>\n",
              "      <th>Evaporation</th>\n",
              "      <th>Sunshine</th>\n",
              "      <th>WindGustSpeed</th>\n",
              "      <th>WindSpeed9am</th>\n",
              "      <th>WindSpeed3pm</th>\n",
              "      <th>Humidity9am</th>\n",
              "      <th>Humidity3pm</th>\n",
              "      <th>Pressure9am</th>\n",
              "      <th>Pressure3pm</th>\n",
              "      <th>Cloud9am</th>\n",
              "      <th>Cloud3pm</th>\n",
              "      <th>Temp9am</th>\n",
              "      <th>Temp3pm</th>\n",
              "    </tr>\n",
              "  </thead>\n",
              "  <tbody>\n",
              "    <tr>\n",
              "      <th>count</th>\n",
              "      <td>24781.000000</td>\n",
              "      <td>24885.000000</td>\n",
              "      <td>24570.000000</td>\n",
              "      <td>16385.000000</td>\n",
              "      <td>16142.000000</td>\n",
              "      <td>21011.000000</td>\n",
              "      <td>25073.000000</td>\n",
              "      <td>24389.000000</td>\n",
              "      <td>24800.000000</td>\n",
              "      <td>24141.000000</td>\n",
              "      <td>21854.000000</td>\n",
              "      <td>21852.000000</td>\n",
              "      <td>16480.000000</td>\n",
              "      <td>15527.000000</td>\n",
              "      <td>24883.000000</td>\n",
              "      <td>24183.000000</td>\n",
              "    </tr>\n",
              "    <tr>\n",
              "      <th>mean</th>\n",
              "      <td>13.255958</td>\n",
              "      <td>23.627928</td>\n",
              "      <td>2.568637</td>\n",
              "      <td>5.180128</td>\n",
              "      <td>7.598346</td>\n",
              "      <td>38.323021</td>\n",
              "      <td>12.250668</td>\n",
              "      <td>17.501989</td>\n",
              "      <td>66.912621</td>\n",
              "      <td>51.880742</td>\n",
              "      <td>1018.254873</td>\n",
              "      <td>1015.802009</td>\n",
              "      <td>4.214078</td>\n",
              "      <td>4.237264</td>\n",
              "      <td>17.850520</td>\n",
              "      <td>22.018224</td>\n",
              "    </tr>\n",
              "    <tr>\n",
              "      <th>std</th>\n",
              "      <td>5.828184</td>\n",
              "      <td>5.911984</td>\n",
              "      <td>8.955230</td>\n",
              "      <td>3.421251</td>\n",
              "      <td>3.796346</td>\n",
              "      <td>13.483681</td>\n",
              "      <td>9.282323</td>\n",
              "      <td>9.349560</td>\n",
              "      <td>16.448132</td>\n",
              "      <td>17.757020</td>\n",
              "      <td>6.786389</td>\n",
              "      <td>6.637024</td>\n",
              "      <td>2.858866</td>\n",
              "      <td>2.699229</td>\n",
              "      <td>5.931133</td>\n",
              "      <td>5.722596</td>\n",
              "    </tr>\n",
              "    <tr>\n",
              "      <th>min</th>\n",
              "      <td>-8.000000</td>\n",
              "      <td>4.100000</td>\n",
              "      <td>0.000000</td>\n",
              "      <td>0.000000</td>\n",
              "      <td>0.000000</td>\n",
              "      <td>9.000000</td>\n",
              "      <td>0.000000</td>\n",
              "      <td>0.000000</td>\n",
              "      <td>3.000000</td>\n",
              "      <td>4.000000</td>\n",
              "      <td>982.300000</td>\n",
              "      <td>985.500000</td>\n",
              "      <td>0.000000</td>\n",
              "      <td>0.000000</td>\n",
              "      <td>-1.300000</td>\n",
              "      <td>3.700000</td>\n",
              "    </tr>\n",
              "    <tr>\n",
              "      <th>25%</th>\n",
              "      <td>9.500000</td>\n",
              "      <td>19.400000</td>\n",
              "      <td>0.000000</td>\n",
              "      <td>2.600000</td>\n",
              "      <td>4.800000</td>\n",
              "      <td>30.000000</td>\n",
              "      <td>6.000000</td>\n",
              "      <td>11.000000</td>\n",
              "      <td>56.000000</td>\n",
              "      <td>40.000000</td>\n",
              "      <td>1013.700000</td>\n",
              "      <td>1011.300000</td>\n",
              "      <td>1.000000</td>\n",
              "      <td>1.000000</td>\n",
              "      <td>13.600000</td>\n",
              "      <td>18.000000</td>\n",
              "    </tr>\n",
              "    <tr>\n",
              "      <th>50%</th>\n",
              "      <td>13.500000</td>\n",
              "      <td>23.500000</td>\n",
              "      <td>0.000000</td>\n",
              "      <td>4.600000</td>\n",
              "      <td>8.500000</td>\n",
              "      <td>37.000000</td>\n",
              "      <td>11.000000</td>\n",
              "      <td>17.000000</td>\n",
              "      <td>67.000000</td>\n",
              "      <td>52.000000</td>\n",
              "      <td>1018.200000</td>\n",
              "      <td>1015.800000</td>\n",
              "      <td>5.000000</td>\n",
              "      <td>5.000000</td>\n",
              "      <td>17.800000</td>\n",
              "      <td>21.900000</td>\n",
              "    </tr>\n",
              "    <tr>\n",
              "      <th>75%</th>\n",
              "      <td>17.600000</td>\n",
              "      <td>27.700000</td>\n",
              "      <td>0.800000</td>\n",
              "      <td>7.200000</td>\n",
              "      <td>10.500000</td>\n",
              "      <td>46.000000</td>\n",
              "      <td>17.000000</td>\n",
              "      <td>22.000000</td>\n",
              "      <td>78.000000</td>\n",
              "      <td>63.000000</td>\n",
              "      <td>1022.800000</td>\n",
              "      <td>1020.300000</td>\n",
              "      <td>7.000000</td>\n",
              "      <td>7.000000</td>\n",
              "      <td>22.300000</td>\n",
              "      <td>25.900000</td>\n",
              "    </tr>\n",
              "    <tr>\n",
              "      <th>max</th>\n",
              "      <td>33.900000</td>\n",
              "      <td>46.400000</td>\n",
              "      <td>240.000000</td>\n",
              "      <td>44.000000</td>\n",
              "      <td>13.900000</td>\n",
              "      <td>122.000000</td>\n",
              "      <td>130.000000</td>\n",
              "      <td>87.000000</td>\n",
              "      <td>100.000000</td>\n",
              "      <td>100.000000</td>\n",
              "      <td>1040.600000</td>\n",
              "      <td>1037.900000</td>\n",
              "      <td>9.000000</td>\n",
              "      <td>8.000000</td>\n",
              "      <td>39.000000</td>\n",
              "      <td>45.400000</td>\n",
              "    </tr>\n",
              "  </tbody>\n",
              "</table>\n",
              "</div>\n",
              "      <button class=\"colab-df-convert\" onclick=\"convertToInteractive('df-b04baac6-d97d-41d0-a487-022fdc2b66fb')\"\n",
              "              title=\"Convert this dataframe to an interactive table.\"\n",
              "              style=\"display:none;\">\n",
              "        \n",
              "  <svg xmlns=\"http://www.w3.org/2000/svg\" height=\"24px\"viewBox=\"0 0 24 24\"\n",
              "       width=\"24px\">\n",
              "    <path d=\"M0 0h24v24H0V0z\" fill=\"none\"/>\n",
              "    <path d=\"M18.56 5.44l.94 2.06.94-2.06 2.06-.94-2.06-.94-.94-2.06-.94 2.06-2.06.94zm-11 1L8.5 8.5l.94-2.06 2.06-.94-2.06-.94L8.5 2.5l-.94 2.06-2.06.94zm10 10l.94 2.06.94-2.06 2.06-.94-2.06-.94-.94-2.06-.94 2.06-2.06.94z\"/><path d=\"M17.41 7.96l-1.37-1.37c-.4-.4-.92-.59-1.43-.59-.52 0-1.04.2-1.43.59L10.3 9.45l-7.72 7.72c-.78.78-.78 2.05 0 2.83L4 21.41c.39.39.9.59 1.41.59.51 0 1.02-.2 1.41-.59l7.78-7.78 2.81-2.81c.8-.78.8-2.07 0-2.86zM5.41 20L4 18.59l7.72-7.72 1.47 1.35L5.41 20z\"/>\n",
              "  </svg>\n",
              "      </button>\n",
              "      \n",
              "  <style>\n",
              "    .colab-df-container {\n",
              "      display:flex;\n",
              "      flex-wrap:wrap;\n",
              "      gap: 12px;\n",
              "    }\n",
              "\n",
              "    .colab-df-convert {\n",
              "      background-color: #E8F0FE;\n",
              "      border: none;\n",
              "      border-radius: 50%;\n",
              "      cursor: pointer;\n",
              "      display: none;\n",
              "      fill: #1967D2;\n",
              "      height: 32px;\n",
              "      padding: 0 0 0 0;\n",
              "      width: 32px;\n",
              "    }\n",
              "\n",
              "    .colab-df-convert:hover {\n",
              "      background-color: #E2EBFA;\n",
              "      box-shadow: 0px 1px 2px rgba(60, 64, 67, 0.3), 0px 1px 3px 1px rgba(60, 64, 67, 0.15);\n",
              "      fill: #174EA6;\n",
              "    }\n",
              "\n",
              "    [theme=dark] .colab-df-convert {\n",
              "      background-color: #3B4455;\n",
              "      fill: #D2E3FC;\n",
              "    }\n",
              "\n",
              "    [theme=dark] .colab-df-convert:hover {\n",
              "      background-color: #434B5C;\n",
              "      box-shadow: 0px 1px 3px 1px rgba(0, 0, 0, 0.15);\n",
              "      filter: drop-shadow(0px 1px 2px rgba(0, 0, 0, 0.3));\n",
              "      fill: #FFFFFF;\n",
              "    }\n",
              "  </style>\n",
              "\n",
              "      <script>\n",
              "        const buttonEl =\n",
              "          document.querySelector('#df-b04baac6-d97d-41d0-a487-022fdc2b66fb button.colab-df-convert');\n",
              "        buttonEl.style.display =\n",
              "          google.colab.kernel.accessAllowed ? 'block' : 'none';\n",
              "\n",
              "        async function convertToInteractive(key) {\n",
              "          const element = document.querySelector('#df-b04baac6-d97d-41d0-a487-022fdc2b66fb');\n",
              "          const dataTable =\n",
              "            await google.colab.kernel.invokeFunction('convertToInteractive',\n",
              "                                                     [key], {});\n",
              "          if (!dataTable) return;\n",
              "\n",
              "          const docLinkHtml = 'Like what you see? Visit the ' +\n",
              "            '<a target=\"_blank\" href=https://colab.research.google.com/notebooks/data_table.ipynb>data table notebook</a>'\n",
              "            + ' to learn more about interactive tables.';\n",
              "          element.innerHTML = '';\n",
              "          dataTable['output_type'] = 'display_data';\n",
              "          await google.colab.output.renderOutput(dataTable, element);\n",
              "          const docLink = document.createElement('div');\n",
              "          docLink.innerHTML = docLinkHtml;\n",
              "          element.appendChild(docLink);\n",
              "        }\n",
              "      </script>\n",
              "    </div>\n",
              "  </div>\n",
              "  "
            ],
            "text/plain": [
              "            MinTemp       MaxTemp      Rainfall   Evaporation      Sunshine  \\\n",
              "count  24781.000000  24885.000000  24570.000000  16385.000000  16142.000000   \n",
              "mean      13.255958     23.627928      2.568637      5.180128      7.598346   \n",
              "std        5.828184      5.911984      8.955230      3.421251      3.796346   \n",
              "min       -8.000000      4.100000      0.000000      0.000000      0.000000   \n",
              "25%        9.500000     19.400000      0.000000      2.600000      4.800000   \n",
              "50%       13.500000     23.500000      0.000000      4.600000      8.500000   \n",
              "75%       17.600000     27.700000      0.800000      7.200000     10.500000   \n",
              "max       33.900000     46.400000    240.000000     44.000000     13.900000   \n",
              "\n",
              "       WindGustSpeed  WindSpeed9am  WindSpeed3pm   Humidity9am   Humidity3pm  \\\n",
              "count   21011.000000  25073.000000  24389.000000  24800.000000  24141.000000   \n",
              "mean       38.323021     12.250668     17.501989     66.912621     51.880742   \n",
              "std        13.483681      9.282323      9.349560     16.448132     17.757020   \n",
              "min         9.000000      0.000000      0.000000      3.000000      4.000000   \n",
              "25%        30.000000      6.000000     11.000000     56.000000     40.000000   \n",
              "50%        37.000000     11.000000     17.000000     67.000000     52.000000   \n",
              "75%        46.000000     17.000000     22.000000     78.000000     63.000000   \n",
              "max       122.000000    130.000000     87.000000    100.000000    100.000000   \n",
              "\n",
              "        Pressure9am   Pressure3pm      Cloud9am      Cloud3pm       Temp9am  \\\n",
              "count  21854.000000  21852.000000  16480.000000  15527.000000  24883.000000   \n",
              "mean    1018.254873   1015.802009      4.214078      4.237264     17.850520   \n",
              "std        6.786389      6.637024      2.858866      2.699229      5.931133   \n",
              "min      982.300000    985.500000      0.000000      0.000000     -1.300000   \n",
              "25%     1013.700000   1011.300000      1.000000      1.000000     13.600000   \n",
              "50%     1018.200000   1015.800000      5.000000      5.000000     17.800000   \n",
              "75%     1022.800000   1020.300000      7.000000      7.000000     22.300000   \n",
              "max     1040.600000   1037.900000      9.000000      8.000000     39.000000   \n",
              "\n",
              "            Temp3pm  \n",
              "count  24183.000000  \n",
              "mean      22.018224  \n",
              "std        5.722596  \n",
              "min        3.700000  \n",
              "25%       18.000000  \n",
              "50%       21.900000  \n",
              "75%       25.900000  \n",
              "max       45.400000  "
            ]
          },
          "execution_count": 8,
          "metadata": {},
          "output_type": "execute_result"
        }
      ],
      "source": [
        "data.Date = pd.to_datetime(data.Date)\n",
        "data.describe()"
      ]
    },
    {
      "cell_type": "code",
      "execution_count": null,
      "metadata": {
        "colab": {
          "base_uri": "https://localhost:8080/"
        },
        "execution": {
          "iopub.execute_input": "2022-04-13T09:28:07.356958Z",
          "iopub.status.busy": "2022-04-13T09:28:07.356611Z",
          "iopub.status.idle": "2022-04-13T09:28:07.372663Z",
          "shell.execute_reply": "2022-04-13T09:28:07.371729Z",
          "shell.execute_reply.started": "2022-04-13T09:28:07.356925Z"
        },
        "id": "TgRxrftYnb5-",
        "outputId": "d8800098-0652-4af6-b2bb-340d4153a003",
        "trusted": true
      },
      "outputs": [
        {
          "name": "stdout",
          "output_type": "stream",
          "text": [
            "['Canberra' 'Sydney' 'Perth' 'Brisbane' 'Adelaide' 'Melbourne' 'Newcastle'\n",
            " 'GoldCoast']\n",
            "8 Locations\n"
          ]
        },
        {
          "data": {
            "text/plain": [
              "Canberra     3436\n",
              "Sydney       3344\n",
              "Perth        3193\n",
              "Brisbane     3193\n",
              "Adelaide     3193\n",
              "Melbourne    3193\n",
              "GoldCoast    3040\n",
              "Newcastle    3039\n",
              "Name: Location, dtype: int64"
            ]
          },
          "execution_count": 9,
          "metadata": {},
          "output_type": "execute_result"
        }
      ],
      "source": [
        "print(data.Location.unique())\n",
        "print(\"8 Locations\")\n",
        "data.Location.value_counts()"
      ]
    },
    {
      "cell_type": "code",
      "execution_count": null,
      "metadata": {
        "colab": {
          "base_uri": "https://localhost:8080/"
        },
        "id": "d4OiHhl_nb5_",
        "outputId": "088215b1-108e-4ccd-9b2f-47d338491c92"
      },
      "outputs": [
        {
          "data": {
            "text/plain": [
              "Date                0\n",
              "Location            0\n",
              "MinTemp             6\n",
              "MaxTemp             3\n",
              "Rainfall           18\n",
              "Evaporation      1604\n",
              "Sunshine         1915\n",
              "WindGustDir       339\n",
              "WindGustSpeed     337\n",
              "WindDir9am        541\n",
              "WindDir3pm        228\n",
              "WindSpeed9am      229\n",
              "WindSpeed3pm      223\n",
              "Humidity9am        63\n",
              "Humidity3pm        12\n",
              "Pressure9am       226\n",
              "Pressure3pm       221\n",
              "Cloud9am         1072\n",
              "Cloud3pm         1263\n",
              "Temp9am            18\n",
              "Temp3pm             7\n",
              "RainToday          18\n",
              "RainTomorrow       18\n",
              "dtype: int64"
            ]
          },
          "execution_count": 10,
          "metadata": {},
          "output_type": "execute_result"
        }
      ],
      "source": [
        "# creation of one specific DataFrame per location\n",
        "data_canberra =  data[data['Location']=='Canberra']\n",
        "data_sydney =  data[data['Location']=='Sydney']\n",
        "data_perth =  data[data['Location']=='Perth']\n",
        "data_brisbane =  data[data['Location']=='Brisbane']\n",
        "data_adelaide =  data[data['Location']=='Adelaide']\n",
        "data_melbourne =  data[data['Location']=='Melbourne']\n",
        "data_newcastle =  data[data['Location']=='Newcastle']\n",
        "data_goldcoast =  data[data['Location']=='GoldCoast']\n",
        "data_canberra.isna().sum()"
      ]
    },
    {
      "cell_type": "code",
      "execution_count": null,
      "metadata": {
        "colab": {
          "base_uri": "https://localhost:8080/",
          "height": 542
        },
        "execution": {
          "iopub.execute_input": "2022-04-13T09:28:07.469Z",
          "iopub.status.busy": "2022-04-13T09:28:07.468468Z",
          "iopub.status.idle": "2022-04-13T09:28:07.754581Z",
          "shell.execute_reply": "2022-04-13T09:28:07.753584Z",
          "shell.execute_reply.started": "2022-04-13T09:28:07.468952Z"
        },
        "id": "dbmYPWpRnb5_",
        "outputId": "4f140f4e-13b4-4b28-c2fc-59095f6c994b",
        "trusted": true
      },
      "outputs": [
        {
          "data": {
            "image/png": "[encoded data removed]",
            "text/plain": [
              "<Figure size 1440x576 with 1 Axes>"
            ]
          },
          "metadata": {
            "needs_background": "light"
          },
          "output_type": "display_data"
        }
      ],
      "source": [
        "# visualisation of one parameter evolution during the time at a specific location\n",
        "data_city = data_newcastle #Newcastle\n",
        "parameter = \"MinTemp\"\n",
        "\n",
        "dt = np.arange(datetime(2008,1,1), datetime(2018,1,1), timedelta(days=365.25)).astype(datetime)\n",
        "fig = plt.figure(1,figsize =(20,8))\n",
        "plt.plot_date(data_city.Date, data_city[parameter]  )\n",
        "plt.title(f'{parameter} evolution per date')\n",
        "plt.xlabel('Date')\n",
        "plt.xticks(dt, rotation=90)\n",
        "plt.grid()\n",
        "plt.show()"
      ]
    },
    {
      "cell_type": "markdown",
      "metadata": {
        "id": "ZxxQ8Yaanb6A"
      },
      "source": [
        "data cleansing"
      ]
    },
    {
      "cell_type": "code",
      "execution_count": null,
      "metadata": {
        "colab": {
          "base_uri": "https://localhost:8080/"
        },
        "id": "btq-jBM-nb6A",
        "outputId": "ef2810e7-f555-45d8-db9a-b4764936e5a9"
      },
      "outputs": [
        {
          "data": {
            "text/plain": [
              "25631"
            ]
          },
          "execution_count": 12,
          "metadata": {},
          "output_type": "execute_result"
        }
      ],
      "source": [
        "data.shape[0]"
      ]
    },
    {
      "cell_type": "code",
      "execution_count": null,
      "metadata": {
        "colab": {
          "base_uri": "https://localhost:8080/"
        },
        "execution": {
          "iopub.execute_input": "2022-04-13T09:28:07.756211Z",
          "iopub.status.busy": "2022-04-13T09:28:07.755952Z",
          "iopub.status.idle": "2022-04-13T09:28:07.786443Z",
          "shell.execute_reply": "2022-04-13T09:28:07.785233Z",
          "shell.execute_reply.started": "2022-04-13T09:28:07.756177Z"
        },
        "id": "VqMGD1QQnb6A",
        "outputId": "ed4b0204-1c69-4549-ffed-7c4e0e362bf0",
        "trusted": true
      },
      "outputs": [
        {
          "data": {
            "text/plain": [
              "Date             0.000000\n",
              "Location         0.000000\n",
              "MinTemp          0.033163\n",
              "MaxTemp          0.029105\n",
              "Rainfall         0.041395\n",
              "Evaporation      0.360735\n",
              "Sunshine         0.370216\n",
              "WindGustDir      0.180329\n",
              "WindGustSpeed    0.180250\n",
              "WindDir9am       0.101869\n",
              "WindDir3pm       0.065702\n",
              "WindSpeed9am     0.021771\n",
              "WindSpeed3pm     0.048457\n",
              "Humidity9am      0.032422\n",
              "Humidity3pm      0.058133\n",
              "Pressure9am      0.147361\n",
              "Pressure3pm      0.147439\n",
              "Cloud9am         0.357029\n",
              "Cloud3pm         0.394210\n",
              "Temp9am          0.029183\n",
              "Temp3pm          0.056494\n",
              "RainToday        0.041395\n",
              "RainTomorrow     0.041434\n",
              "dtype: float64"
            ]
          },
          "execution_count": 13,
          "metadata": {},
          "output_type": "execute_result"
        }
      ],
      "source": [
        "data.isna().sum()/data.shape[0]"
      ]
    },
    {
      "cell_type": "code",
      "execution_count": null,
      "metadata": {
        "id": "6-PgCXzsnb6A"
      },
      "outputs": [],
      "source": [
        "## drop rows where target is empty\n",
        "\n",
        "data.dropna(subset=['RainTomorrow'], inplace=True)"
      ]
    },
    {
      "cell_type": "code",
      "execution_count": null,
      "metadata": {
        "colab": {
          "base_uri": "https://localhost:8080/"
        },
        "id": "1xuQoeXLnb6B",
        "outputId": "9f677aa9-5d83-4abc-8426-4fdc4022feb5"
      },
      "outputs": [
        {
          "data": {
            "text/plain": [
              "Date             0.000000\n",
              "Location         0.000000\n",
              "MinTemp          0.012373\n",
              "MaxTemp          0.007082\n",
              "Rainfall         0.013839\n",
              "Evaporation      0.368025\n",
              "Sunshine         0.378648\n",
              "WindGustDir      0.181611\n",
              "WindGustSpeed    0.181530\n",
              "WindDir9am       0.101958\n",
              "WindDir3pm       0.064960\n",
              "WindSpeed9am     0.019903\n",
              "WindSpeed3pm     0.047214\n",
              "Humidity9am      0.011559\n",
              "Humidity3pm      0.037812\n",
              "Pressure9am      0.130612\n",
              "Pressure3pm      0.130530\n",
              "Cloud9am         0.337498\n",
              "Cloud3pm         0.375188\n",
              "Temp9am          0.008344\n",
              "Temp3pm          0.036143\n",
              "RainToday        0.013839\n",
              "RainTomorrow     0.000000\n",
              "dtype: float64"
            ]
          },
          "execution_count": 15,
          "metadata": {},
          "output_type": "execute_result"
        }
      ],
      "source": [
        "data.isna().sum()/data.shape[0]"
      ]
    },
    {
      "cell_type": "code",
      "execution_count": null,
      "metadata": {
        "colab": {
          "base_uri": "https://localhost:8080/"
        },
        "id": "SgW1jD5_nb6B",
        "outputId": "37e5c10c-6bfd-4bc5-d51d-4a3c40e66234"
      },
      "outputs": [
        {
          "data": {
            "text/plain": [
              "array(['Canberra', 'Sydney', 'Perth', 'Brisbane', 'Adelaide', 'Melbourne',\n",
              "       'Newcastle', 'GoldCoast'], dtype=object)"
            ]
          },
          "execution_count": 16,
          "metadata": {},
          "output_type": "execute_result"
        }
      ],
      "source": [
        "data.Location.unique()"
      ]
    },
    {
      "cell_type": "code",
      "execution_count": null,
      "metadata": {
        "colab": {
          "base_uri": "https://localhost:8080/"
        },
        "execution": {
          "iopub.execute_input": "2022-04-13T09:28:07.788439Z",
          "iopub.status.busy": "2022-04-13T09:28:07.788091Z",
          "iopub.status.idle": "2022-04-13T09:28:07.921683Z",
          "shell.execute_reply": "2022-04-13T09:28:07.920561Z",
          "shell.execute_reply.started": "2022-04-13T09:28:07.788394Z"
        },
        "id": "9co_YWXBnb6B",
        "outputId": "d52fadfe-c115-43f9-f045-d12c6aad0725",
        "trusted": true
      },
      "outputs": [
        {
          "data": {
            "text/plain": [
              "Date             0\n",
              "Location         0\n",
              "MinTemp          0\n",
              "MaxTemp          0\n",
              "Rainfall         0\n",
              "Evaporation      0\n",
              "Sunshine         0\n",
              "WindGustDir      0\n",
              "WindGustSpeed    0\n",
              "WindDir9am       0\n",
              "WindDir3pm       0\n",
              "WindSpeed9am     0\n",
              "WindSpeed3pm     0\n",
              "Humidity9am      0\n",
              "Humidity3pm      0\n",
              "Pressure9am      0\n",
              "Pressure3pm      0\n",
              "Cloud9am         0\n",
              "Cloud3pm         0\n",
              "Temp9am          0\n",
              "Temp3pm          0\n",
              "RainToday        0\n",
              "RainTomorrow     0\n",
              "dtype: int64"
            ]
          },
          "execution_count": 17,
          "metadata": {},
          "output_type": "execute_result"
        }
      ],
      "source": [
        "data_canberra = data_canberra.ffill().bfill().fillna(0)\n",
        "data_sydney = data_sydney.ffill().bfill().fillna(0)\n",
        "data_perth = data_perth.ffill().bfill().fillna(0)\n",
        "data_brisbane = data_brisbane.ffill().bfill().fillna(0)\n",
        "data_adelaide = data_adelaide.ffill().bfill().fillna(0)\n",
        "data_melbourne = data_melbourne.ffill().bfill().fillna(0)\n",
        "data_newcastle = data_newcastle.ffill().bfill().fillna(0)\n",
        "data_goldcoast = data_goldcoast.ffill().bfill().fillna(0)\n",
        "\n",
        "# data_C = data_C.fillna(method=\"ffill\")\n",
        "# data_A = data_A.fillna(method=\"ffill\")\n",
        "# data_N = data_A.fillna(method=\"ffill\")\n",
        "# data_A = data_A.fillna(0)\n",
        "# data_N = data_N.fillna(0)\n",
        "# data_G = data_G.fillna(0)\n",
        "\n",
        "data_melbourne.isna().sum()"
      ]
    },
    {
      "cell_type": "code",
      "execution_count": null,
      "metadata": {
        "colab": {
          "base_uri": "https://localhost:8080/"
        },
        "execution": {
          "iopub.execute_input": "2022-04-13T09:28:07.925393Z",
          "iopub.status.busy": "2022-04-13T09:28:07.925012Z",
          "iopub.status.idle": "2022-04-13T09:28:07.971458Z",
          "shell.execute_reply": "2022-04-13T09:28:07.970566Z",
          "shell.execute_reply.started": "2022-04-13T09:28:07.925344Z"
        },
        "id": "lOr_WZQgnb6C",
        "outputId": "4f868181-5024-4152-feb0-0b24d9beb0f5",
        "trusted": true
      },
      "outputs": [
        {
          "data": {
            "text/plain": [
              "Date             0\n",
              "Location         0\n",
              "MinTemp          0\n",
              "MaxTemp          0\n",
              "Rainfall         0\n",
              "Evaporation      0\n",
              "Sunshine         0\n",
              "WindGustDir      0\n",
              "WindGustSpeed    0\n",
              "WindDir9am       0\n",
              "WindDir3pm       0\n",
              "WindSpeed9am     0\n",
              "WindSpeed3pm     0\n",
              "Humidity9am      0\n",
              "Humidity3pm      0\n",
              "Pressure9am      0\n",
              "Pressure3pm      0\n",
              "Cloud9am         0\n",
              "Cloud3pm         0\n",
              "Temp9am          0\n",
              "Temp3pm          0\n",
              "RainToday        0\n",
              "RainTomorrow     0\n",
              "dtype: int64"
            ]
          },
          "execution_count": 18,
          "metadata": {},
          "output_type": "execute_result"
        }
      ],
      "source": [
        "df = pd.concat([data_canberra,data_sydney,data_perth,data_brisbane,data_adelaide,data_melbourne,data_newcastle,data_goldcoast], ignore_index=True)\n",
        "df.isna().sum()"
      ]
    },
    {
      "cell_type": "markdown",
      "metadata": {
        "id": "jNkmIPetnb6C"
      },
      "source": [
        "encoding of categorial values using one hot encoding"
      ]
    },
    {
      "cell_type": "code",
      "execution_count": null,
      "metadata": {
        "colab": {
          "base_uri": "https://localhost:8080/"
        },
        "execution": {
          "iopub.execute_input": "2022-04-13T09:28:07.972932Z",
          "iopub.status.busy": "2022-04-13T09:28:07.972664Z",
          "iopub.status.idle": "2022-04-13T09:28:07.998085Z",
          "shell.execute_reply": "2022-04-13T09:28:07.997178Z",
          "shell.execute_reply.started": "2022-04-13T09:28:07.972904Z"
        },
        "id": "pud46rLdnb6C",
        "outputId": "8e212455-aaba-42b9-87f4-2d0561d2f29d",
        "trusted": true
      },
      "outputs": [
        {
          "name": "stdout",
          "output_type": "stream",
          "text": [
            "['Canberra' 'Sydney' 'Perth' 'Brisbane' 'Adelaide' 'Melbourne' 'Newcastle'\n",
            " 'GoldCoast']\n",
            "['NW' 'ENE' 'SSE' 'SE' 'E' 'S' 'N' 'WNW' 'ESE' 'NE' 'NNE' 'NNW' 'SW' 'W'\n",
            " 'WSW' 'SSW' 0.0]\n",
            "['SW' 'E' 'N' 'WNW' 'SSE' 'SE' 'S' 'WSW' 'NNE' 'NNW' 'ENE' 'SSW' 'NW'\n",
            " 'ESE' 'NE' 'W']\n",
            "['NW' 'W' 'NNE' 'ESE' 'E' 'ENE' 'WSW' 'NE' 'NNW' 'SE' 'S' 'SW' 'WNW' 'N'\n",
            " 'SSW' 'SSE']\n",
            "['No' 'Yes']\n",
            "['Yes' 'No']\n"
          ]
        }
      ],
      "source": [
        "for col in df.select_dtypes(include='object').columns:\n",
        "    print(df[col].unique())\n",
        "    \n",
        "# print(data_all.Location.unique())\n",
        "# print(data_all.WindGustDir.unique())\n",
        "# print(data_all.WindDir9am.unique())\n",
        "# print(data_all.WindDir3pm.unique())\n",
        "# print(data_all.RainToday.unique())\n",
        "# print(data_all.RainTomorrow.unique())"
      ]
    },
    {
      "cell_type": "markdown",
      "metadata": {
        "id": "KdNBPrZ5nb6D"
      },
      "source": [
        "### 1st Approach"
      ]
    },
    {
      "cell_type": "code",
      "execution_count": null,
      "metadata": {
        "execution": {
          "iopub.execute_input": "2022-04-13T09:28:07.999508Z",
          "iopub.status.busy": "2022-04-13T09:28:07.999284Z",
          "iopub.status.idle": "2022-04-13T09:28:08.00813Z",
          "shell.execute_reply": "2022-04-13T09:28:08.007232Z",
          "shell.execute_reply.started": "2022-04-13T09:28:07.999467Z"
        },
        "id": "sTHwLxlbnb6D",
        "trusted": true
      },
      "outputs": [],
      "source": [
        "# dico_city = {'Canberra':1, 'Sydney':2, 'Perth':3, 'Brisbane':4, 'Adelaide':5, 'Melbourne':6, 'Newcastle':7,'GoldCoast':8}\n",
        "# dico_dir = {\"N\":0, \"NNE\":22.5, \"NE\":45, \"ENE\":67.5, \"E\": 90, \"ESE\":112.5,  \"SE\" :135, \"SSE\":157.5, \"S\":180, \"SSW\":202.5, \"SW\": 225,\"WSW\":247.5, \"W\" :270, \"WNW\":292.5, \"NW\": 315,\"NNW\":337.5}   \n",
        "# dico_bool = {\"Yes\":1, \"No\":0}"
      ]
    },
    {
      "cell_type": "code",
      "execution_count": null,
      "metadata": {
        "execution": {
          "iopub.execute_input": "2022-04-13T09:28:08.010122Z",
          "iopub.status.busy": "2022-04-13T09:28:08.009313Z",
          "iopub.status.idle": "2022-04-13T09:28:08.075875Z",
          "shell.execute_reply": "2022-04-13T09:28:08.075286Z",
          "shell.execute_reply.started": "2022-04-13T09:28:08.010086Z"
        },
        "id": "j9Gus7O1nb6D",
        "trusted": true
      },
      "outputs": [],
      "source": [
        "# data_all.Location = data_all.Location.map(dico_city)\n",
        "# data_all[\"WindGustDir\"] =  data_all[\"WindGustDir\"].map(dico_dir)\n",
        "# data_all[\"WindDir9am\"] =  data_all[\"WindDir9am\"].map(dico_dir)\n",
        "# data_all[\"WindDir3pm\"] =  data_all[\"WindDir3pm\"].map(dico_dir)\n",
        "# data_all[\"RainToday\"] =  data_all[\"RainToday\"].map(dico_bool)\n",
        "# data_all[\"RainTomorrow\"] =  data_all[\"RainTomorrow\"].map(dico_bool)\n",
        "\n",
        "# #data_all[[\"WindGustDir\",\"WindDir9am\",\"WindDir3pm\"]] = data_all[[\"WindGustDir\",\"WindDir9am\",\"WindDir3pm\"]].map(dico_dir)\n",
        "# #data_all[\"RainToday\",\"RainTomorrow\"] = data_all[\"RainToday\",\"RainTomorrow\"].map(dico_bool)\n",
        "# data_all.head()"
      ]
    },
    {
      "cell_type": "code",
      "execution_count": null,
      "metadata": {
        "execution": {
          "iopub.execute_input": "2022-04-13T09:28:08.077433Z",
          "iopub.status.busy": "2022-04-13T09:28:08.076762Z",
          "iopub.status.idle": "2022-04-13T09:28:08.132143Z",
          "shell.execute_reply": "2022-04-13T09:28:08.131443Z",
          "shell.execute_reply.started": "2022-04-13T09:28:08.077399Z"
        },
        "id": "ALkpMswAnb6E",
        "trusted": true
      },
      "outputs": [],
      "source": [
        "# data_all['Year'] = data_all['Date'].dt.year \n",
        "# data_all['Month'] = data_all['Date'].dt.month\n",
        "# data_all['Day'] = data_all['Date'].dt.day\n",
        "# data_all = data_all.drop(['Date'], axis =1)\n",
        "# data_all.head()"
      ]
    },
    {
      "cell_type": "code",
      "execution_count": null,
      "metadata": {
        "execution": {
          "iopub.execute_input": "2022-04-13T09:28:08.133707Z",
          "iopub.status.busy": "2022-04-13T09:28:08.133409Z",
          "iopub.status.idle": "2022-04-13T09:28:08.150989Z",
          "shell.execute_reply": "2022-04-13T09:28:08.150212Z",
          "shell.execute_reply.started": "2022-04-13T09:28:08.133676Z"
        },
        "id": "1Ep6NGr7nb6E",
        "trusted": true
      },
      "outputs": [],
      "source": [
        "# %%time \n",
        "# data_all.info()"
      ]
    },
    {
      "cell_type": "markdown",
      "metadata": {
        "id": "INsjGAv5nb6E"
      },
      "source": [
        "### 2nd Approach => Encoding"
      ]
    },
    {
      "cell_type": "code",
      "execution_count": null,
      "metadata": {
        "id": "AUM53aCwnb6E"
      },
      "outputs": [],
      "source": [
        "data_encoded = df.copy()\n",
        "\n",
        "# categorical columns to encode except target variable\n",
        "col_to_encode = list(data_encoded.select_dtypes(include='object').columns[:-1])\n",
        "\n",
        "# generate binary values using get_dummies\n",
        "df_encoded = pd.get_dummies(data_encoded, columns=col_to_encode)\n"
      ]
    },
    {
      "cell_type": "code",
      "execution_count": null,
      "metadata": {
        "colab": {
          "base_uri": "https://localhost:8080/"
        },
        "id": "uKDZVAzxnb6F",
        "outputId": "1c887013-f503-480e-e133-9be02633f849"
      },
      "outputs": [
        {
          "data": {
            "text/plain": [
              "Index(['Date', 'MinTemp', 'MaxTemp', 'Rainfall', 'Evaporation', 'Sunshine',\n",
              "       'WindGustSpeed', 'WindSpeed9am', 'WindSpeed3pm', 'Humidity9am',\n",
              "       'Humidity3pm', 'Pressure9am', 'Pressure3pm', 'Cloud9am', 'Cloud3pm',\n",
              "       'Temp9am', 'Temp3pm', 'RainTomorrow', 'Location_Adelaide',\n",
              "       'Location_Brisbane', 'Location_Canberra', 'Location_GoldCoast',\n",
              "       'Location_Melbourne', 'Location_Newcastle', 'Location_Perth',\n",
              "       'Location_Sydney', 'WindGustDir_0.0', 'WindGustDir_E',\n",
              "       'WindGustDir_ENE', 'WindGustDir_ESE', 'WindGustDir_N', 'WindGustDir_NE',\n",
              "       'WindGustDir_NNE', 'WindGustDir_NNW', 'WindGustDir_NW', 'WindGustDir_S',\n",
              "       'WindGustDir_SE', 'WindGustDir_SSE', 'WindGustDir_SSW',\n",
              "       'WindGustDir_SW', 'WindGustDir_W', 'WindGustDir_WNW', 'WindGustDir_WSW',\n",
              "       'WindDir9am_E', 'WindDir9am_ENE', 'WindDir9am_ESE', 'WindDir9am_N',\n",
              "       'WindDir9am_NE', 'WindDir9am_NNE', 'WindDir9am_NNW', 'WindDir9am_NW',\n",
              "       'WindDir9am_S', 'WindDir9am_SE', 'WindDir9am_SSE', 'WindDir9am_SSW',\n",
              "       'WindDir9am_SW', 'WindDir9am_W', 'WindDir9am_WNW', 'WindDir9am_WSW',\n",
              "       'WindDir3pm_E', 'WindDir3pm_ENE', 'WindDir3pm_ESE', 'WindDir3pm_N',\n",
              "       'WindDir3pm_NE', 'WindDir3pm_NNE', 'WindDir3pm_NNW', 'WindDir3pm_NW',\n",
              "       'WindDir3pm_S', 'WindDir3pm_SE', 'WindDir3pm_SSE', 'WindDir3pm_SSW',\n",
              "       'WindDir3pm_SW', 'WindDir3pm_W', 'WindDir3pm_WNW', 'WindDir3pm_WSW',\n",
              "       'RainToday_No', 'RainToday_Yes'],\n",
              "      dtype='object')"
            ]
          },
          "execution_count": 41,
          "metadata": {},
          "output_type": "execute_result"
        }
      ],
      "source": [
        "df_encoded.columns"
      ]
    },
    {
      "cell_type": "code",
      "execution_count": null,
      "metadata": {
        "id": "JA3TB_gYnb6F"
      },
      "outputs": [],
      "source": [
        "df_encoded['Year'] = df_encoded['Date'].dt.year \n",
        "df_encoded['Month'] = df_encoded['Date'].dt.month\n",
        "df_encoded['Day'] = df_encoded['Date'].dt.day\n",
        "df_encoded.drop(['Date'], axis =1, inplace=True)"
      ]
    },
    {
      "cell_type": "code",
      "execution_count": null,
      "metadata": {
        "colab": {
          "base_uri": "https://localhost:8080/",
          "height": 487
        },
        "id": "W2jt79Kjnb6F",
        "outputId": "05aefff4-86cc-49b0-c3b1-3b0b25b86c65"
      },
      "outputs": [
        {
          "data": {
            "text/html": [
              "\n",
              "  <div id=\"df-bf0d709d-0123-45c2-843e-42a261ac17b7\">\n",
              "    <div class=\"colab-df-container\">\n",
              "      <div>\n",
              "<style scoped>\n",
              "    .dataframe tbody tr th:only-of-type {\n",
              "        vertical-align: middle;\n",
              "    }\n",
              "\n",
              "    .dataframe tbody tr th {\n",
              "        vertical-align: top;\n",
              "    }\n",
              "\n",
              "    .dataframe thead th {\n",
              "        text-align: right;\n",
              "    }\n",
              "</style>\n",
              "<table border=\"1\" class=\"dataframe\">\n",
              "  <thead>\n",
              "    <tr style=\"text-align: right;\">\n",
              "      <th></th>\n",
              "      <th>MinTemp</th>\n",
              "      <th>MaxTemp</th>\n",
              "      <th>Rainfall</th>\n",
              "      <th>Evaporation</th>\n",
              "      <th>Sunshine</th>\n",
              "      <th>WindGustSpeed</th>\n",
              "      <th>WindSpeed9am</th>\n",
              "      <th>WindSpeed3pm</th>\n",
              "      <th>Humidity9am</th>\n",
              "      <th>Humidity3pm</th>\n",
              "      <th>...</th>\n",
              "      <th>WindDir3pm_SSW</th>\n",
              "      <th>WindDir3pm_SW</th>\n",
              "      <th>WindDir3pm_W</th>\n",
              "      <th>WindDir3pm_WNW</th>\n",
              "      <th>WindDir3pm_WSW</th>\n",
              "      <th>RainToday_No</th>\n",
              "      <th>RainToday_Yes</th>\n",
              "      <th>Year</th>\n",
              "      <th>Month</th>\n",
              "      <th>Day</th>\n",
              "    </tr>\n",
              "  </thead>\n",
              "  <tbody>\n",
              "    <tr>\n",
              "      <th>0</th>\n",
              "      <td>8.0</td>\n",
              "      <td>24.3</td>\n",
              "      <td>0.0</td>\n",
              "      <td>3.4</td>\n",
              "      <td>6.3</td>\n",
              "      <td>30.0</td>\n",
              "      <td>6.0</td>\n",
              "      <td>20.0</td>\n",
              "      <td>68.0</td>\n",
              "      <td>29.0</td>\n",
              "      <td>...</td>\n",
              "      <td>0</td>\n",
              "      <td>0</td>\n",
              "      <td>0</td>\n",
              "      <td>0</td>\n",
              "      <td>0</td>\n",
              "      <td>1</td>\n",
              "      <td>0</td>\n",
              "      <td>2007</td>\n",
              "      <td>11</td>\n",
              "      <td>1</td>\n",
              "    </tr>\n",
              "    <tr>\n",
              "      <th>1</th>\n",
              "      <td>14.0</td>\n",
              "      <td>26.9</td>\n",
              "      <td>3.6</td>\n",
              "      <td>4.4</td>\n",
              "      <td>9.7</td>\n",
              "      <td>39.0</td>\n",
              "      <td>4.0</td>\n",
              "      <td>17.0</td>\n",
              "      <td>80.0</td>\n",
              "      <td>36.0</td>\n",
              "      <td>...</td>\n",
              "      <td>0</td>\n",
              "      <td>0</td>\n",
              "      <td>1</td>\n",
              "      <td>0</td>\n",
              "      <td>0</td>\n",
              "      <td>0</td>\n",
              "      <td>1</td>\n",
              "      <td>2007</td>\n",
              "      <td>11</td>\n",
              "      <td>2</td>\n",
              "    </tr>\n",
              "    <tr>\n",
              "      <th>2</th>\n",
              "      <td>13.7</td>\n",
              "      <td>23.4</td>\n",
              "      <td>3.6</td>\n",
              "      <td>5.8</td>\n",
              "      <td>3.3</td>\n",
              "      <td>85.0</td>\n",
              "      <td>6.0</td>\n",
              "      <td>6.0</td>\n",
              "      <td>82.0</td>\n",
              "      <td>69.0</td>\n",
              "      <td>...</td>\n",
              "      <td>0</td>\n",
              "      <td>0</td>\n",
              "      <td>0</td>\n",
              "      <td>0</td>\n",
              "      <td>0</td>\n",
              "      <td>0</td>\n",
              "      <td>1</td>\n",
              "      <td>2007</td>\n",
              "      <td>11</td>\n",
              "      <td>3</td>\n",
              "    </tr>\n",
              "    <tr>\n",
              "      <th>3</th>\n",
              "      <td>13.3</td>\n",
              "      <td>15.5</td>\n",
              "      <td>39.8</td>\n",
              "      <td>7.2</td>\n",
              "      <td>9.1</td>\n",
              "      <td>54.0</td>\n",
              "      <td>30.0</td>\n",
              "      <td>24.0</td>\n",
              "      <td>62.0</td>\n",
              "      <td>56.0</td>\n",
              "      <td>...</td>\n",
              "      <td>0</td>\n",
              "      <td>0</td>\n",
              "      <td>1</td>\n",
              "      <td>0</td>\n",
              "      <td>0</td>\n",
              "      <td>0</td>\n",
              "      <td>1</td>\n",
              "      <td>2007</td>\n",
              "      <td>11</td>\n",
              "      <td>4</td>\n",
              "    </tr>\n",
              "    <tr>\n",
              "      <th>4</th>\n",
              "      <td>7.6</td>\n",
              "      <td>16.1</td>\n",
              "      <td>2.8</td>\n",
              "      <td>5.6</td>\n",
              "      <td>10.6</td>\n",
              "      <td>50.0</td>\n",
              "      <td>20.0</td>\n",
              "      <td>28.0</td>\n",
              "      <td>68.0</td>\n",
              "      <td>49.0</td>\n",
              "      <td>...</td>\n",
              "      <td>0</td>\n",
              "      <td>0</td>\n",
              "      <td>0</td>\n",
              "      <td>0</td>\n",
              "      <td>0</td>\n",
              "      <td>0</td>\n",
              "      <td>1</td>\n",
              "      <td>2007</td>\n",
              "      <td>11</td>\n",
              "      <td>5</td>\n",
              "    </tr>\n",
              "    <tr>\n",
              "      <th>...</th>\n",
              "      <td>...</td>\n",
              "      <td>...</td>\n",
              "      <td>...</td>\n",
              "      <td>...</td>\n",
              "      <td>...</td>\n",
              "      <td>...</td>\n",
              "      <td>...</td>\n",
              "      <td>...</td>\n",
              "      <td>...</td>\n",
              "      <td>...</td>\n",
              "      <td>...</td>\n",
              "      <td>...</td>\n",
              "      <td>...</td>\n",
              "      <td>...</td>\n",
              "      <td>...</td>\n",
              "      <td>...</td>\n",
              "      <td>...</td>\n",
              "      <td>...</td>\n",
              "      <td>...</td>\n",
              "      <td>...</td>\n",
              "      <td>...</td>\n",
              "    </tr>\n",
              "    <tr>\n",
              "      <th>25626</th>\n",
              "      <td>14.2</td>\n",
              "      <td>22.7</td>\n",
              "      <td>0.0</td>\n",
              "      <td>0.0</td>\n",
              "      <td>0.0</td>\n",
              "      <td>35.0</td>\n",
              "      <td>13.0</td>\n",
              "      <td>28.0</td>\n",
              "      <td>66.0</td>\n",
              "      <td>69.0</td>\n",
              "      <td>...</td>\n",
              "      <td>0</td>\n",
              "      <td>0</td>\n",
              "      <td>0</td>\n",
              "      <td>0</td>\n",
              "      <td>0</td>\n",
              "      <td>1</td>\n",
              "      <td>0</td>\n",
              "      <td>2017</td>\n",
              "      <td>6</td>\n",
              "      <td>21</td>\n",
              "    </tr>\n",
              "    <tr>\n",
              "      <th>25627</th>\n",
              "      <td>13.7</td>\n",
              "      <td>22.5</td>\n",
              "      <td>0.0</td>\n",
              "      <td>0.0</td>\n",
              "      <td>0.0</td>\n",
              "      <td>39.0</td>\n",
              "      <td>11.0</td>\n",
              "      <td>26.0</td>\n",
              "      <td>66.0</td>\n",
              "      <td>51.0</td>\n",
              "      <td>...</td>\n",
              "      <td>0</td>\n",
              "      <td>0</td>\n",
              "      <td>0</td>\n",
              "      <td>0</td>\n",
              "      <td>0</td>\n",
              "      <td>1</td>\n",
              "      <td>0</td>\n",
              "      <td>2017</td>\n",
              "      <td>6</td>\n",
              "      <td>22</td>\n",
              "    </tr>\n",
              "    <tr>\n",
              "      <th>25628</th>\n",
              "      <td>13.0</td>\n",
              "      <td>22.7</td>\n",
              "      <td>0.0</td>\n",
              "      <td>0.0</td>\n",
              "      <td>0.0</td>\n",
              "      <td>24.0</td>\n",
              "      <td>9.0</td>\n",
              "      <td>13.0</td>\n",
              "      <td>66.0</td>\n",
              "      <td>49.0</td>\n",
              "      <td>...</td>\n",
              "      <td>0</td>\n",
              "      <td>0</td>\n",
              "      <td>0</td>\n",
              "      <td>0</td>\n",
              "      <td>0</td>\n",
              "      <td>1</td>\n",
              "      <td>0</td>\n",
              "      <td>2017</td>\n",
              "      <td>6</td>\n",
              "      <td>23</td>\n",
              "    </tr>\n",
              "    <tr>\n",
              "      <th>25629</th>\n",
              "      <td>11.8</td>\n",
              "      <td>24.3</td>\n",
              "      <td>0.0</td>\n",
              "      <td>0.0</td>\n",
              "      <td>0.0</td>\n",
              "      <td>31.0</td>\n",
              "      <td>15.0</td>\n",
              "      <td>11.0</td>\n",
              "      <td>65.0</td>\n",
              "      <td>52.0</td>\n",
              "      <td>...</td>\n",
              "      <td>0</td>\n",
              "      <td>0</td>\n",
              "      <td>0</td>\n",
              "      <td>0</td>\n",
              "      <td>0</td>\n",
              "      <td>1</td>\n",
              "      <td>0</td>\n",
              "      <td>2017</td>\n",
              "      <td>6</td>\n",
              "      <td>24</td>\n",
              "    </tr>\n",
              "    <tr>\n",
              "      <th>25630</th>\n",
              "      <td>12.9</td>\n",
              "      <td>22.4</td>\n",
              "      <td>0.0</td>\n",
              "      <td>0.0</td>\n",
              "      <td>0.0</td>\n",
              "      <td>26.0</td>\n",
              "      <td>9.0</td>\n",
              "      <td>19.0</td>\n",
              "      <td>66.0</td>\n",
              "      <td>64.0</td>\n",
              "      <td>...</td>\n",
              "      <td>0</td>\n",
              "      <td>0</td>\n",
              "      <td>0</td>\n",
              "      <td>0</td>\n",
              "      <td>0</td>\n",
              "      <td>1</td>\n",
              "      <td>0</td>\n",
              "      <td>2017</td>\n",
              "      <td>6</td>\n",
              "      <td>25</td>\n",
              "    </tr>\n",
              "  </tbody>\n",
              "</table>\n",
              "<p>25631 rows × 79 columns</p>\n",
              "</div>\n",
              "      <button class=\"colab-df-convert\" onclick=\"convertToInteractive('df-bf0d709d-0123-45c2-843e-42a261ac17b7')\"\n",
              "              title=\"Convert this dataframe to an interactive table.\"\n",
              "              style=\"display:none;\">\n",
              "        \n",
              "  <svg xmlns=\"http://www.w3.org/2000/svg\" height=\"24px\"viewBox=\"0 0 24 24\"\n",
              "       width=\"24px\">\n",
              "    <path d=\"M0 0h24v24H0V0z\" fill=\"none\"/>\n",
              "    <path d=\"M18.56 5.44l.94 2.06.94-2.06 2.06-.94-2.06-.94-.94-2.06-.94 2.06-2.06.94zm-11 1L8.5 8.5l.94-2.06 2.06-.94-2.06-.94L8.5 2.5l-.94 2.06-2.06.94zm10 10l.94 2.06.94-2.06 2.06-.94-2.06-.94-.94-2.06-.94 2.06-2.06.94z\"/><path d=\"M17.41 7.96l-1.37-1.37c-.4-.4-.92-.59-1.43-.59-.52 0-1.04.2-1.43.59L10.3 9.45l-7.72 7.72c-.78.78-.78 2.05 0 2.83L4 21.41c.39.39.9.59 1.41.59.51 0 1.02-.2 1.41-.59l7.78-7.78 2.81-2.81c.8-.78.8-2.07 0-2.86zM5.41 20L4 18.59l7.72-7.72 1.47 1.35L5.41 20z\"/>\n",
              "  </svg>\n",
              "      </button>\n",
              "      \n",
              "  <style>\n",
              "    .colab-df-container {\n",
              "      display:flex;\n",
              "      flex-wrap:wrap;\n",
              "      gap: 12px;\n",
              "    }\n",
              "\n",
              "    .colab-df-convert {\n",
              "      background-color: #E8F0FE;\n",
              "      border: none;\n",
              "      border-radius: 50%;\n",
              "      cursor: pointer;\n",
              "      display: none;\n",
              "      fill: #1967D2;\n",
              "      height: 32px;\n",
              "      padding: 0 0 0 0;\n",
              "      width: 32px;\n",
              "    }\n",
              "\n",
              "    .colab-df-convert:hover {\n",
              "      background-color: #E2EBFA;\n",
              "      box-shadow: 0px 1px 2px rgba(60, 64, 67, 0.3), 0px 1px 3px 1px rgba(60, 64, 67, 0.15);\n",
              "      fill: #174EA6;\n",
              "    }\n",
              "\n",
              "    [theme=dark] .colab-df-convert {\n",
              "      background-color: #3B4455;\n",
              "      fill: #D2E3FC;\n",
              "    }\n",
              "\n",
              "    [theme=dark] .colab-df-convert:hover {\n",
              "      background-color: #434B5C;\n",
              "      box-shadow: 0px 1px 3px 1px rgba(0, 0, 0, 0.15);\n",
              "      filter: drop-shadow(0px 1px 2px rgba(0, 0, 0, 0.3));\n",
              "      fill: #FFFFFF;\n",
              "    }\n",
              "  </style>\n",
              "\n",
              "      <script>\n",
              "        const buttonEl =\n",
              "          document.querySelector('#df-bf0d709d-0123-45c2-843e-42a261ac17b7 button.colab-df-convert');\n",
              "        buttonEl.style.display =\n",
              "          google.colab.kernel.accessAllowed ? 'block' : 'none';\n",
              "\n",
              "        async function convertToInteractive(key) {\n",
              "          const element = document.querySelector('#df-bf0d709d-0123-45c2-843e-42a261ac17b7');\n",
              "          const dataTable =\n",
              "            await google.colab.kernel.invokeFunction('convertToInteractive',\n",
              "                                                     [key], {});\n",
              "          if (!dataTable) return;\n",
              "\n",
              "          const docLinkHtml = 'Like what you see? Visit the ' +\n",
              "            '<a target=\"_blank\" href=https://colab.research.google.com/notebooks/data_table.ipynb>data table notebook</a>'\n",
              "            + ' to learn more about interactive tables.';\n",
              "          element.innerHTML = '';\n",
              "          dataTable['output_type'] = 'display_data';\n",
              "          await google.colab.output.renderOutput(dataTable, element);\n",
              "          const docLink = document.createElement('div');\n",
              "          docLink.innerHTML = docLinkHtml;\n",
              "          element.appendChild(docLink);\n",
              "        }\n",
              "      </script>\n",
              "    </div>\n",
              "  </div>\n",
              "  "
            ],
            "text/plain": [
              "       MinTemp  MaxTemp  Rainfall  Evaporation  Sunshine  WindGustSpeed  \\\n",
              "0          8.0     24.3       0.0          3.4       6.3           30.0   \n",
              "1         14.0     26.9       3.6          4.4       9.7           39.0   \n",
              "2         13.7     23.4       3.6          5.8       3.3           85.0   \n",
              "3         13.3     15.5      39.8          7.2       9.1           54.0   \n",
              "4          7.6     16.1       2.8          5.6      10.6           50.0   \n",
              "...        ...      ...       ...          ...       ...            ...   \n",
              "25626     14.2     22.7       0.0          0.0       0.0           35.0   \n",
              "25627     13.7     22.5       0.0          0.0       0.0           39.0   \n",
              "25628     13.0     22.7       0.0          0.0       0.0           24.0   \n",
              "25629     11.8     24.3       0.0          0.0       0.0           31.0   \n",
              "25630     12.9     22.4       0.0          0.0       0.0           26.0   \n",
              "\n",
              "       WindSpeed9am  WindSpeed3pm  Humidity9am  Humidity3pm  ...  \\\n",
              "0               6.0          20.0         68.0         29.0  ...   \n",
              "1               4.0          17.0         80.0         36.0  ...   \n",
              "2               6.0           6.0         82.0         69.0  ...   \n",
              "3              30.0          24.0         62.0         56.0  ...   \n",
              "4              20.0          28.0         68.0         49.0  ...   \n",
              "...             ...           ...          ...          ...  ...   \n",
              "25626          13.0          28.0         66.0         69.0  ...   \n",
              "25627          11.0          26.0         66.0         51.0  ...   \n",
              "25628           9.0          13.0         66.0         49.0  ...   \n",
              "25629          15.0          11.0         65.0         52.0  ...   \n",
              "25630           9.0          19.0         66.0         64.0  ...   \n",
              "\n",
              "       WindDir3pm_SSW  WindDir3pm_SW  WindDir3pm_W  WindDir3pm_WNW  \\\n",
              "0                   0              0             0               0   \n",
              "1                   0              0             1               0   \n",
              "2                   0              0             0               0   \n",
              "3                   0              0             1               0   \n",
              "4                   0              0             0               0   \n",
              "...               ...            ...           ...             ...   \n",
              "25626               0              0             0               0   \n",
              "25627               0              0             0               0   \n",
              "25628               0              0             0               0   \n",
              "25629               0              0             0               0   \n",
              "25630               0              0             0               0   \n",
              "\n",
              "       WindDir3pm_WSW  RainToday_No RainToday_Yes  Year  Month  Day  \n",
              "0                   0             1             0  2007     11    1  \n",
              "1                   0             0             1  2007     11    2  \n",
              "2                   0             0             1  2007     11    3  \n",
              "3                   0             0             1  2007     11    4  \n",
              "4                   0             0             1  2007     11    5  \n",
              "...               ...           ...           ...   ...    ...  ...  \n",
              "25626               0             1             0  2017      6   21  \n",
              "25627               0             1             0  2017      6   22  \n",
              "25628               0             1             0  2017      6   23  \n",
              "25629               0             1             0  2017      6   24  \n",
              "25630               0             1             0  2017      6   25  \n",
              "\n",
              "[25631 rows x 79 columns]"
            ]
          },
          "execution_count": 43,
          "metadata": {},
          "output_type": "execute_result"
        }
      ],
      "source": [
        "df_encoded"
      ]
    },
    {
      "cell_type": "markdown",
      "metadata": {
        "id": "BCDpq93Lnb6F"
      },
      "source": [
        "# Classification Model"
      ]
    },
    {
      "cell_type": "markdown",
      "metadata": {
        "id": "9MS1QyRVnb6G"
      },
      "source": [
        "## Train test split"
      ]
    },
    {
      "cell_type": "code",
      "execution_count": null,
      "metadata": {
        "execution": {
          "iopub.execute_input": "2022-04-13T09:28:08.152422Z",
          "iopub.status.busy": "2022-04-13T09:28:08.152154Z",
          "iopub.status.idle": "2022-04-13T09:28:08.19029Z",
          "shell.execute_reply": "2022-04-13T09:28:08.189386Z",
          "shell.execute_reply.started": "2022-04-13T09:28:08.152392Z"
        },
        "id": "jFKmDQjKnb6G",
        "trusted": true
      },
      "outputs": [],
      "source": [
        "# Splitting data using time-based splitting in test and train datasets\n",
        "train_set, test_set= np.split(df_encoded, [int(.80 *len(df_encoded))])\n",
        "\n",
        "y_train = train_set.RainTomorrow\n",
        "X_train = train_set.drop(['RainTomorrow'], axis =1)\n",
        "\n",
        "y_test = test_set.RainTomorrow\n",
        "X_test = test_set.drop(['RainTomorrow'], axis =1)\n"
      ]
    },
    {
      "cell_type": "code",
      "execution_count": null,
      "metadata": {
        "colab": {
          "base_uri": "https://localhost:8080/"
        },
        "id": "Zx9mFN5ynb6G",
        "outputId": "b1a1dae6-c185-4894-ab8d-f95e7658478a"
      },
      "outputs": [
        {
          "data": {
            "text/plain": [
              "0"
            ]
          },
          "execution_count": 29,
          "metadata": {},
          "output_type": "execute_result"
        }
      ],
      "source": [
        "y_train.isna().sum()"
      ]
    },
    {
      "cell_type": "markdown",
      "metadata": {
        "id": "rkk4iyTUnb6G"
      },
      "source": [
        "## Standardisation"
      ]
    },
    {
      "cell_type": "code",
      "execution_count": null,
      "metadata": {
        "id": "n1JNR98Knb6G"
      },
      "outputs": [],
      "source": [
        "from sklearn.linear_model import LogisticRegression\n",
        "from sklearn.preprocessing import StandardScaler\n",
        "\n",
        "scaler = StandardScaler()\n",
        "\n",
        "df_train_scaled = scaler.fit_transform(X_train)\n",
        "df_test_scaled = scaler.transform(X_test)"
      ]
    },
    {
      "cell_type": "markdown",
      "metadata": {
        "id": "Tdkrc54Lnb6G"
      },
      "source": [
        "## Logistic Regression"
      ]
    },
    {
      "cell_type": "code",
      "execution_count": null,
      "metadata": {
        "colab": {
          "base_uri": "https://localhost:8080/"
        },
        "execution": {
          "iopub.execute_input": "2022-04-13T09:28:08.191876Z",
          "iopub.status.busy": "2022-04-13T09:28:08.191664Z",
          "iopub.status.idle": "2022-04-13T09:28:08.426332Z",
          "shell.execute_reply": "2022-04-13T09:28:08.425145Z",
          "shell.execute_reply.started": "2022-04-13T09:28:08.19185Z"
        },
        "id": "yjkpRp00nb6H",
        "outputId": "c899c959-597e-49a9-a978-cbcd35254717",
        "trusted": true
      },
      "outputs": [
        {
          "name": "stdout",
          "output_type": "stream",
          "text": [
            "0.8507120561841592\n",
            "0.7899356348741955\n"
          ]
        },
        {
          "name": "stderr",
          "output_type": "stream",
          "text": [
            "/usr/local/lib/python3.7/dist-packages/sklearn/linear_model/_logistic.py:818: ConvergenceWarning: lbfgs failed to converge (status=1):\n",
            "STOP: TOTAL NO. of ITERATIONS REACHED LIMIT.\n",
            "\n",
            "Increase the number of iterations (max_iter) or scale the data as shown in:\n",
            "    https://scikit-learn.org/stable/modules/preprocessing.html\n",
            "Please also refer to the documentation for alternative solver options:\n",
            "    https://scikit-learn.org/stable/modules/linear_model.html#logistic-regression\n",
            "  extra_warning_msg=_LOGISTIC_SOLVER_CONVERGENCE_MSG,\n"
          ]
        }
      ],
      "source": [
        "clf = LogisticRegression(C=1)\n",
        "clf.fit(df_train_scaled, y_train)\n",
        "\n",
        "print(clf.score(df_train_scaled, y_train))\n",
        "print(clf.score(df_test_scaled, y_test))\n",
        "y_pred_clf = clf.predict(df_test_scaled)"
      ]
    },
    {
      "cell_type": "code",
      "execution_count": null,
      "metadata": {
        "colab": {
          "base_uri": "https://localhost:8080/",
          "height": 143
        },
        "execution": {
          "iopub.execute_input": "2022-04-13T09:28:08.429181Z",
          "iopub.status.busy": "2022-04-13T09:28:08.428509Z",
          "iopub.status.idle": "2022-04-13T09:28:08.47192Z",
          "shell.execute_reply": "2022-04-13T09:28:08.470745Z",
          "shell.execute_reply.started": "2022-04-13T09:28:08.429125Z"
        },
        "id": "mT9s_pW-nb6H",
        "outputId": "6ba8f078-432b-41a0-eece-b3ed80b4a8f6",
        "trusted": true
      },
      "outputs": [
        {
          "data": {
            "text/html": [
              "\n",
              "  <div id=\"df-d24916f6-9245-4412-854e-7443a06a0db4\">\n",
              "    <div class=\"colab-df-container\">\n",
              "      <div>\n",
              "<style scoped>\n",
              "    .dataframe tbody tr th:only-of-type {\n",
              "        vertical-align: middle;\n",
              "    }\n",
              "\n",
              "    .dataframe tbody tr th {\n",
              "        vertical-align: top;\n",
              "    }\n",
              "\n",
              "    .dataframe thead th {\n",
              "        text-align: right;\n",
              "    }\n",
              "</style>\n",
              "<table border=\"1\" class=\"dataframe\">\n",
              "  <thead>\n",
              "    <tr style=\"text-align: right;\">\n",
              "      <th>Classe prédite</th>\n",
              "      <th>No</th>\n",
              "      <th>Yes</th>\n",
              "    </tr>\n",
              "    <tr>\n",
              "      <th>Classe réelle</th>\n",
              "      <th></th>\n",
              "      <th></th>\n",
              "    </tr>\n",
              "  </thead>\n",
              "  <tbody>\n",
              "    <tr>\n",
              "      <th>No</th>\n",
              "      <td>3683</td>\n",
              "      <td>114</td>\n",
              "    </tr>\n",
              "    <tr>\n",
              "      <th>Yes</th>\n",
              "      <td>963</td>\n",
              "      <td>367</td>\n",
              "    </tr>\n",
              "  </tbody>\n",
              "</table>\n",
              "</div>\n",
              "      <button class=\"colab-df-convert\" onclick=\"convertToInteractive('df-d24916f6-9245-4412-854e-7443a06a0db4')\"\n",
              "              title=\"Convert this dataframe to an interactive table.\"\n",
              "              style=\"display:none;\">\n",
              "        \n",
              "  <svg xmlns=\"http://www.w3.org/2000/svg\" height=\"24px\"viewBox=\"0 0 24 24\"\n",
              "       width=\"24px\">\n",
              "    <path d=\"M0 0h24v24H0V0z\" fill=\"none\"/>\n",
              "    <path d=\"M18.56 5.44l.94 2.06.94-2.06 2.06-.94-2.06-.94-.94-2.06-.94 2.06-2.06.94zm-11 1L8.5 8.5l.94-2.06 2.06-.94-2.06-.94L8.5 2.5l-.94 2.06-2.06.94zm10 10l.94 2.06.94-2.06 2.06-.94-2.06-.94-.94-2.06-.94 2.06-2.06.94z\"/><path d=\"M17.41 7.96l-1.37-1.37c-.4-.4-.92-.59-1.43-.59-.52 0-1.04.2-1.43.59L10.3 9.45l-7.72 7.72c-.78.78-.78 2.05 0 2.83L4 21.41c.39.39.9.59 1.41.59.51 0 1.02-.2 1.41-.59l7.78-7.78 2.81-2.81c.8-.78.8-2.07 0-2.86zM5.41 20L4 18.59l7.72-7.72 1.47 1.35L5.41 20z\"/>\n",
              "  </svg>\n",
              "      </button>\n",
              "      \n",
              "  <style>\n",
              "    .colab-df-container {\n",
              "      display:flex;\n",
              "      flex-wrap:wrap;\n",
              "      gap: 12px;\n",
              "    }\n",
              "\n",
              "    .colab-df-convert {\n",
              "      background-color: #E8F0FE;\n",
              "      border: none;\n",
              "      border-radius: 50%;\n",
              "      cursor: pointer;\n",
              "      display: none;\n",
              "      fill: #1967D2;\n",
              "      height: 32px;\n",
              "      padding: 0 0 0 0;\n",
              "      width: 32px;\n",
              "    }\n",
              "\n",
              "    .colab-df-convert:hover {\n",
              "      background-color: #E2EBFA;\n",
              "      box-shadow: 0px 1px 2px rgba(60, 64, 67, 0.3), 0px 1px 3px 1px rgba(60, 64, 67, 0.15);\n",
              "      fill: #174EA6;\n",
              "    }\n",
              "\n",
              "    [theme=dark] .colab-df-convert {\n",
              "      background-color: #3B4455;\n",
              "      fill: #D2E3FC;\n",
              "    }\n",
              "\n",
              "    [theme=dark] .colab-df-convert:hover {\n",
              "      background-color: #434B5C;\n",
              "      box-shadow: 0px 1px 3px 1px rgba(0, 0, 0, 0.15);\n",
              "      filter: drop-shadow(0px 1px 2px rgba(0, 0, 0, 0.3));\n",
              "      fill: #FFFFFF;\n",
              "    }\n",
              "  </style>\n",
              "\n",
              "      <script>\n",
              "        const buttonEl =\n",
              "          document.querySelector('#df-d24916f6-9245-4412-854e-7443a06a0db4 button.colab-df-convert');\n",
              "        buttonEl.style.display =\n",
              "          google.colab.kernel.accessAllowed ? 'block' : 'none';\n",
              "\n",
              "        async function convertToInteractive(key) {\n",
              "          const element = document.querySelector('#df-d24916f6-9245-4412-854e-7443a06a0db4');\n",
              "          const dataTable =\n",
              "            await google.colab.kernel.invokeFunction('convertToInteractive',\n",
              "                                                     [key], {});\n",
              "          if (!dataTable) return;\n",
              "\n",
              "          const docLinkHtml = 'Like what you see? Visit the ' +\n",
              "            '<a target=\"_blank\" href=https://colab.research.google.com/notebooks/data_table.ipynb>data table notebook</a>'\n",
              "            + ' to learn more about interactive tables.';\n",
              "          element.innerHTML = '';\n",
              "          dataTable['output_type'] = 'display_data';\n",
              "          await google.colab.output.renderOutput(dataTable, element);\n",
              "          const docLink = document.createElement('div');\n",
              "          docLink.innerHTML = docLinkHtml;\n",
              "          element.appendChild(docLink);\n",
              "        }\n",
              "      </script>\n",
              "    </div>\n",
              "  </div>\n",
              "  "
            ],
            "text/plain": [
              "Classe prédite    No  Yes\n",
              "Classe réelle            \n",
              "No              3683  114\n",
              "Yes              963  367"
            ]
          },
          "execution_count": 32,
          "metadata": {},
          "output_type": "execute_result"
        }
      ],
      "source": [
        "pd.crosstab(y_test, y_pred_clf, rownames=['Classe réelle'], colnames=['Classe prédite'])"
      ]
    },
    {
      "cell_type": "code",
      "execution_count": null,
      "metadata": {},
      "outputs": [],
      "source": [
        "import pickle\n",
        "\n",
        "# save the model to disk\n",
        "filename = 'final_model_lr.pkl'\n",
        "pickle.dump(clf, open(filename, 'wb'))"
      ]
    },
    {
      "cell_type": "markdown",
      "metadata": {
        "id": "2jzRd6munb6H"
      },
      "source": [
        "## Support Vector"
      ]
    },
    {
      "cell_type": "code",
      "execution_count": null,
      "metadata": {
        "colab": {
          "base_uri": "https://localhost:8080/"
        },
        "execution": {
          "iopub.execute_input": "2022-04-13T09:28:08.474761Z",
          "iopub.status.busy": "2022-04-13T09:28:08.474057Z",
          "iopub.status.idle": "2022-04-13T09:28:29.817074Z",
          "shell.execute_reply": "2022-04-13T09:28:29.815919Z",
          "shell.execute_reply.started": "2022-04-13T09:28:08.474699Z"
        },
        "id": "LZ0asZwXnb6H",
        "outputId": "43f01e75-c845-4d16-e32b-b1872a72f92f",
        "trusted": true
      },
      "outputs": [
        {
          "name": "stdout",
          "output_type": "stream",
          "text": [
            "0.8729516191962544\n",
            "0.7558026136141993\n"
          ]
        }
      ],
      "source": [
        "from sklearn import svm\n",
        "svm =  svm.SVC(gamma=0.01, kernel='poly') \n",
        "svm.fit(df_train_scaled , y_train)\n",
        "\n",
        "print(svm.score(df_train_scaled, y_train))\n",
        "print(svm.score(df_test_scaled, y_test))"
      ]
    },
    {
      "cell_type": "code",
      "execution_count": null,
      "metadata": {},
      "outputs": [],
      "source": [
        "# save the model to disk\n",
        "filename = 'final_model_svm.pkl'\n",
        "pickle.dump(svm, open(filename, 'wb'))"
      ]
    },
    {
      "cell_type": "markdown",
      "metadata": {
        "id": "IbR6yHvdnb6H"
      },
      "source": [
        "## KNN"
      ]
    },
    {
      "cell_type": "code",
      "execution_count": null,
      "metadata": {
        "colab": {
          "base_uri": "https://localhost:8080/"
        },
        "execution": {
          "iopub.execute_input": "2022-04-13T09:28:29.81908Z",
          "iopub.status.busy": "2022-04-13T09:28:29.818773Z",
          "iopub.status.idle": "2022-04-13T09:28:42.702583Z",
          "shell.execute_reply": "2022-04-13T09:28:42.70146Z",
          "shell.execute_reply.started": "2022-04-13T09:28:29.819037Z"
        },
        "id": "GFIfJ-MPnb6H",
        "outputId": "6f937535-efc0-420e-d625-1947f3cd6fbd",
        "trusted": true
      },
      "outputs": [
        {
          "name": "stdout",
          "output_type": "stream",
          "text": [
            "0.8428111587982833\n",
            "0.7421494051102009\n"
          ]
        }
      ],
      "source": [
        "from sklearn import neighbors, datasets\n",
        "knn = neighbors.KNeighborsClassifier(n_neighbors=7, metric ='minkowski')\n",
        "knn.fit(df_train_scaled, y_train)\n",
        "\n",
        "print(knn.score(df_train_scaled, y_train))\n",
        "print(knn.score(df_test_scaled, y_test))"
      ]
    },
    {
      "cell_type": "code",
      "execution_count": null,
      "metadata": {},
      "outputs": [],
      "source": [
        "# save the model to disk\n",
        "filename = 'final_model_knn.pkl'\n",
        "pickle.dump(knn, open(filename, 'wb'))"
      ]
    },
    {
      "cell_type": "markdown",
      "metadata": {
        "id": "J_uyPVJKnb6I"
      },
      "source": [
        "## Decision Tree"
      ]
    },
    {
      "cell_type": "code",
      "execution_count": null,
      "metadata": {
        "colab": {
          "base_uri": "https://localhost:8080/"
        },
        "execution": {
          "iopub.execute_input": "2022-04-13T09:28:42.704448Z",
          "iopub.status.busy": "2022-04-13T09:28:42.70411Z",
          "iopub.status.idle": "2022-04-13T09:28:42.869007Z",
          "shell.execute_reply": "2022-04-13T09:28:42.868271Z",
          "shell.execute_reply.started": "2022-04-13T09:28:42.704405Z"
        },
        "id": "xs--N9D-nb6I",
        "outputId": "76730ace-fba7-4cf5-a411-d5c362bcba09",
        "trusted": true
      },
      "outputs": [
        {
          "name": "stdout",
          "output_type": "stream",
          "text": [
            "0.8492976980101443\n",
            "0.7589233469865418\n"
          ]
        }
      ],
      "source": [
        "# Scale, Standardize, or Normalize not needed with ensemble algos\n",
        "\n",
        "from sklearn.tree import DecisionTreeClassifier\n",
        "\n",
        "dtc=DecisionTreeClassifier(criterion='entropy', max_depth=6, random_state=321)\n",
        "dtc.fit(X_train, y_train)\n",
        "\n",
        "print(dtc.score(X_train, y_train))\n",
        "print(dtc.score(X_test, y_test))"
      ]
    },
    {
      "cell_type": "code",
      "execution_count": null,
      "metadata": {},
      "outputs": [],
      "source": [
        "# save the model to disk\n",
        "filename = 'final_model_decision_tree.pkl'\n",
        "pickle.dump(dtc, open(filename, 'wb'))"
      ]
    },
    {
      "cell_type": "markdown",
      "metadata": {
        "id": "FrNf_TgAnb6I"
      },
      "source": [
        "## Boosting"
      ]
    },
    {
      "cell_type": "code",
      "execution_count": null,
      "metadata": {
        "colab": {
          "base_uri": "https://localhost:8080/"
        },
        "execution": {
          "iopub.execute_input": "2022-04-13T09:28:42.870451Z",
          "iopub.status.busy": "2022-04-13T09:28:42.870108Z",
          "iopub.status.idle": "2022-04-13T09:29:37.165098Z",
          "shell.execute_reply": "2022-04-13T09:29:37.163918Z",
          "shell.execute_reply.started": "2022-04-13T09:28:42.870422Z"
        },
        "id": "Usla3-rmnb6I",
        "outputId": "96f071ca-f23a-4606-bdbf-0de1a8b8ba1d",
        "trusted": true
      },
      "outputs": [
        {
          "name": "stdout",
          "output_type": "stream",
          "text": [
            "1.0\n",
            "0.7470255510044861\n"
          ]
        }
      ],
      "source": [
        "# Scale, Standardize, or Normalize not needed with ensemble algos\n",
        "\n",
        "from sklearn.ensemble import  AdaBoostClassifier \n",
        "ac = AdaBoostClassifier( base_estimator=dtc,n_estimators=400)\n",
        "ac.fit(X_train, y_train)\n",
        "\n",
        "print(ac.score(X_train, y_train))\n",
        "print(ac.score(X_test, y_test))"
      ]
    },
    {
      "cell_type": "code",
      "execution_count": null,
      "metadata": {},
      "outputs": [],
      "source": [
        "# save the model to disk\n",
        "filename = 'final_model_adaboost.pkl'\n",
        "pickle.dump(ac, open(filename, 'wb'))"
      ]
    },
    {
      "cell_type": "markdown",
      "metadata": {
        "id": "R4urwTAQnb6I"
      },
      "source": [
        "## Random Forest"
      ]
    },
    {
      "cell_type": "code",
      "execution_count": null,
      "metadata": {
        "colab": {
          "base_uri": "https://localhost:8080/"
        },
        "execution": {
          "iopub.execute_input": "2022-04-13T09:29:37.168429Z",
          "iopub.status.busy": "2022-04-13T09:29:37.168137Z",
          "iopub.status.idle": "2022-04-13T09:29:39.046729Z",
          "shell.execute_reply": "2022-04-13T09:29:39.045722Z",
          "shell.execute_reply.started": "2022-04-13T09:29:37.168393Z"
        },
        "id": "-22_khIunb6I",
        "outputId": "26dcddeb-b5ed-4125-e78f-42693ceeceb4",
        "trusted": true
      },
      "outputs": [
        {
          "name": "stdout",
          "output_type": "stream",
          "text": [
            "0.9999512290284822\n",
            "0.8008582016773942\n"
          ]
        }
      ],
      "source": [
        "# Scale, Standardize, or Normalize not needed with ensemble algos\n",
        "\n",
        "from sklearn.ensemble import RandomForestClassifier\n",
        "rfc = RandomForestClassifier(n_jobs=-1, random_state=321)\n",
        "rfc.fit(X_train, y_train)\n",
        "\n",
        "print(rfc.score(X_train, y_train))\n",
        "print(rfc.score(X_test, y_test))"
      ]
    },
    {
      "cell_type": "code",
      "execution_count": null,
      "metadata": {
        "colab": {
          "base_uri": "https://localhost:8080/"
        },
        "execution": {
          "iopub.execute_input": "2022-04-13T09:29:39.048589Z",
          "iopub.status.busy": "2022-04-13T09:29:39.048318Z",
          "iopub.status.idle": "2022-04-13T09:29:52.613717Z",
          "shell.execute_reply": "2022-04-13T09:29:52.612812Z",
          "shell.execute_reply.started": "2022-04-13T09:29:39.048558Z"
        },
        "id": "nnAZPVAjnb6J",
        "outputId": "7d3723c6-1bc7-4384-c329-57ab5d627125",
        "trusted": true
      },
      "outputs": [
        {
          "name": "stdout",
          "output_type": "stream",
          "text": [
            "1.0\n",
            "0.7965671932904232\n"
          ]
        }
      ],
      "source": [
        "\n",
        "rfc = RandomForestClassifier(n_estimators= 300,\n",
        "                            max_depth = 300,\n",
        "                            min_samples_split = 2,\n",
        "                            min_samples_leaf = 1,\n",
        "                            max_features = \"log2\"\n",
        "                            )\n",
        "rfc.fit(X_train, y_train)\n",
        "\n",
        "print(rfc.score(X_train, y_train))\n",
        "print(rfc.score(X_test, y_test))"
      ]
    },
    {
      "cell_type": "code",
      "execution_count": null,
      "metadata": {
        "id": "XDKeBz17sS54"
      },
      "outputs": [],
      "source": [
        "\n",
        "# save the model to disk\n",
        "filename = 'final_model_random_forest.pkl'\n",
        "pickle.dump(rfc, open(filename, 'wb'))"
      ]
    },
    {
      "cell_type": "code",
      "execution_count": null,
      "metadata": {
        "colab": {
          "base_uri": "https://localhost:8080/",
          "height": 143
        },
        "execution": {
          "iopub.execute_input": "2022-04-13T09:29:52.616759Z",
          "iopub.status.busy": "2022-04-13T09:29:52.616351Z",
          "iopub.status.idle": "2022-04-13T09:29:52.992598Z",
          "shell.execute_reply": "2022-04-13T09:29:52.991907Z",
          "shell.execute_reply.started": "2022-04-13T09:29:52.616724Z"
        },
        "id": "x67Btbx6nb6J",
        "outputId": "9374f3dd-8238-44c4-eec8-640cd1dd3127",
        "trusted": true
      },
      "outputs": [
        {
          "data": {
            "text/html": [
              "\n",
              "  <div id=\"df-b9fff1fc-f490-4277-8e2d-27bfe738f53f\">\n",
              "    <div class=\"colab-df-container\">\n",
              "      <div>\n",
              "<style scoped>\n",
              "    .dataframe tbody tr th:only-of-type {\n",
              "        vertical-align: middle;\n",
              "    }\n",
              "\n",
              "    .dataframe tbody tr th {\n",
              "        vertical-align: top;\n",
              "    }\n",
              "\n",
              "    .dataframe thead th {\n",
              "        text-align: right;\n",
              "    }\n",
              "</style>\n",
              "<table border=\"1\" class=\"dataframe\">\n",
              "  <thead>\n",
              "    <tr style=\"text-align: right;\">\n",
              "      <th>Classe prédite</th>\n",
              "      <th>No</th>\n",
              "      <th>Yes</th>\n",
              "    </tr>\n",
              "    <tr>\n",
              "      <th>Classe réelle</th>\n",
              "      <th></th>\n",
              "      <th></th>\n",
              "    </tr>\n",
              "  </thead>\n",
              "  <tbody>\n",
              "    <tr>\n",
              "      <th>No</th>\n",
              "      <td>3485</td>\n",
              "      <td>312</td>\n",
              "    </tr>\n",
              "    <tr>\n",
              "      <th>Yes</th>\n",
              "      <td>731</td>\n",
              "      <td>599</td>\n",
              "    </tr>\n",
              "  </tbody>\n",
              "</table>\n",
              "</div>\n",
              "      <button class=\"colab-df-convert\" onclick=\"convertToInteractive('df-b9fff1fc-f490-4277-8e2d-27bfe738f53f')\"\n",
              "              title=\"Convert this dataframe to an interactive table.\"\n",
              "              style=\"display:none;\">\n",
              "        \n",
              "  <svg xmlns=\"http://www.w3.org/2000/svg\" height=\"24px\"viewBox=\"0 0 24 24\"\n",
              "       width=\"24px\">\n",
              "    <path d=\"M0 0h24v24H0V0z\" fill=\"none\"/>\n",
              "    <path d=\"M18.56 5.44l.94 2.06.94-2.06 2.06-.94-2.06-.94-.94-2.06-.94 2.06-2.06.94zm-11 1L8.5 8.5l.94-2.06 2.06-.94-2.06-.94L8.5 2.5l-.94 2.06-2.06.94zm10 10l.94 2.06.94-2.06 2.06-.94-2.06-.94-.94-2.06-.94 2.06-2.06.94z\"/><path d=\"M17.41 7.96l-1.37-1.37c-.4-.4-.92-.59-1.43-.59-.52 0-1.04.2-1.43.59L10.3 9.45l-7.72 7.72c-.78.78-.78 2.05 0 2.83L4 21.41c.39.39.9.59 1.41.59.51 0 1.02-.2 1.41-.59l7.78-7.78 2.81-2.81c.8-.78.8-2.07 0-2.86zM5.41 20L4 18.59l7.72-7.72 1.47 1.35L5.41 20z\"/>\n",
              "  </svg>\n",
              "      </button>\n",
              "      \n",
              "  <style>\n",
              "    .colab-df-container {\n",
              "      display:flex;\n",
              "      flex-wrap:wrap;\n",
              "      gap: 12px;\n",
              "    }\n",
              "\n",
              "    .colab-df-convert {\n",
              "      background-color: #E8F0FE;\n",
              "      border: none;\n",
              "      border-radius: 50%;\n",
              "      cursor: pointer;\n",
              "      display: none;\n",
              "      fill: #1967D2;\n",
              "      height: 32px;\n",
              "      padding: 0 0 0 0;\n",
              "      width: 32px;\n",
              "    }\n",
              "\n",
              "    .colab-df-convert:hover {\n",
              "      background-color: #E2EBFA;\n",
              "      box-shadow: 0px 1px 2px rgba(60, 64, 67, 0.3), 0px 1px 3px 1px rgba(60, 64, 67, 0.15);\n",
              "      fill: #174EA6;\n",
              "    }\n",
              "\n",
              "    [theme=dark] .colab-df-convert {\n",
              "      background-color: #3B4455;\n",
              "      fill: #D2E3FC;\n",
              "    }\n",
              "\n",
              "    [theme=dark] .colab-df-convert:hover {\n",
              "      background-color: #434B5C;\n",
              "      box-shadow: 0px 1px 3px 1px rgba(0, 0, 0, 0.15);\n",
              "      filter: drop-shadow(0px 1px 2px rgba(0, 0, 0, 0.3));\n",
              "      fill: #FFFFFF;\n",
              "    }\n",
              "  </style>\n",
              "\n",
              "      <script>\n",
              "        const buttonEl =\n",
              "          document.querySelector('#df-b9fff1fc-f490-4277-8e2d-27bfe738f53f button.colab-df-convert');\n",
              "        buttonEl.style.display =\n",
              "          google.colab.kernel.accessAllowed ? 'block' : 'none';\n",
              "\n",
              "        async function convertToInteractive(key) {\n",
              "          const element = document.querySelector('#df-b9fff1fc-f490-4277-8e2d-27bfe738f53f');\n",
              "          const dataTable =\n",
              "            await google.colab.kernel.invokeFunction('convertToInteractive',\n",
              "                                                     [key], {});\n",
              "          if (!dataTable) return;\n",
              "\n",
              "          const docLinkHtml = 'Like what you see? Visit the ' +\n",
              "            '<a target=\"_blank\" href=https://colab.research.google.com/notebooks/data_table.ipynb>data table notebook</a>'\n",
              "            + ' to learn more about interactive tables.';\n",
              "          element.innerHTML = '';\n",
              "          dataTable['output_type'] = 'display_data';\n",
              "          await google.colab.output.renderOutput(dataTable, element);\n",
              "          const docLink = document.createElement('div');\n",
              "          docLink.innerHTML = docLinkHtml;\n",
              "          element.appendChild(docLink);\n",
              "        }\n",
              "      </script>\n",
              "    </div>\n",
              "  </div>\n",
              "  "
            ],
            "text/plain": [
              "Classe prédite    No  Yes\n",
              "Classe réelle            \n",
              "No              3485  312\n",
              "Yes              731  599"
            ]
          },
          "execution_count": 39,
          "metadata": {},
          "output_type": "execute_result"
        }
      ],
      "source": [
        "\n",
        "y_pred_rfc = rfc.predict(X_test)\n",
        "pd.crosstab(y_test, y_pred_rfc, rownames=['Classe réelle'], colnames=['Classe prédite'])"
      ]
    },
    {
      "cell_type": "markdown",
      "metadata": {
        "id": "hpel7MTLnb6J"
      },
      "source": [
        "## Catboost : no encoding needed"
      ]
    }
  ],
  "metadata": {
    "colab": {
      "name": "rains.ipynb",
      "provenance": [],
      "toc_visible": true
    },
    "interpreter": {
      "hash": "e134e05457d34029b6460cd73bbf1ed73f339b5b6d98c95be70b69eba114fe95"
    },
    "kernelspec": {
      "display_name": "Python 3.8.8 64-bit (conda)",
      "name": "python3"
    },
    "language_info": {
      "codemirror_mode": {
        "name": "ipython",
        "version": 3
      },
      "file_extension": ".py",
      "mimetype": "text/x-python",
      "name": "python",
      "nbconvert_exporter": "python",
      "pygments_lexer": "ipython3",
      "version": "3.8.8"
    }
  },
  "nbformat": 4,
  "nbformat_minor": 0
}
